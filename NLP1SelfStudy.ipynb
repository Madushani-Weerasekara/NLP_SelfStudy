{
  "nbformat": 4,
  "nbformat_minor": 0,
  "metadata": {
    "colab": {
      "provenance": [],
      "authorship_tag": "ABX9TyOAKrvuTwD9Fxbf8w24DbAR",
      "include_colab_link": true
    },
    "kernelspec": {
      "name": "python3",
      "display_name": "Python 3"
    },
    "language_info": {
      "name": "python"
    }
  },
  "cells": [
    {
      "cell_type": "markdown",
      "metadata": {
        "id": "view-in-github",
        "colab_type": "text"
      },
      "source": [
        "<a href=\"https://colab.research.google.com/github/Madushani-Weerasekara/NLP_SelfStudy/blob/main/NLP1SelfStudy.ipynb\" target=\"_parent\"><img src=\"https://colab.research.google.com/assets/colab-badge.svg\" alt=\"Open In Colab\"/></a>"
      ]
    },
    {
      "cell_type": "code",
      "source": [
        "# Import libraries\n",
        "import nltk\n",
        "from nltk.corpus import stopwords\n",
        "from nltk.tokenize import sent_tokenize , word_tokenize\n",
        "from nltk.stem import PorterStemmer , WordNetLemmatizer\n"
      ],
      "metadata": {
        "id": "WNCrFAWvjyLY"
      },
      "execution_count": 151,
      "outputs": []
    },
    {
      "cell_type": "code",
      "source": [
        "nltk.download('punkt')\n",
        "nltk.download('stopwords')\n",
        "nltk.download('wordnet')"
      ],
      "metadata": {
        "colab": {
          "base_uri": "https://localhost:8080/"
        },
        "id": "8xgFh_SQlmA9",
        "outputId": "143e27ff-f871-4021-d4e6-b2d5566efb9a"
      },
      "execution_count": 152,
      "outputs": [
        {
          "output_type": "stream",
          "name": "stderr",
          "text": [
            "[nltk_data] Downloading package punkt to /root/nltk_data...\n",
            "[nltk_data]   Package punkt is already up-to-date!\n",
            "[nltk_data] Downloading package stopwords to /root/nltk_data...\n",
            "[nltk_data]   Package stopwords is already up-to-date!\n",
            "[nltk_data] Downloading package wordnet to /root/nltk_data...\n",
            "[nltk_data]   Package wordnet is already up-to-date!\n"
          ]
        },
        {
          "output_type": "execute_result",
          "data": {
            "text/plain": [
              "True"
            ]
          },
          "metadata": {},
          "execution_count": 152
        }
      ]
    },
    {
      "cell_type": "code",
      "source": [
        "\n",
        "corpus = \"\"\"\n",
        "\n",
        "Ernesto \"Che\" Guevara (Spanish: [ˈtʃe ɣeˈβaɾa];[3] 14 June 1928[4] – 9 October 1967) was an Argentine Marxist revolutionary, physician, author, guerrilla leader, diplomat, and military theorist. A major figure of the Cuban Revolution, his stylized visage has become a ubiquitous countercultural symbol of rebellion and global insignia in popular culture.[5]\n",
        "\n",
        "As a young medical student, Guevara traveled throughout South America and was radicalized by the poverty, hunger, and disease he witnessed.[6][7] His burgeoning desire to help overturn what he saw as the capitalist exploitation of Latin America by the United States prompted his involvement in Guatemala's social reforms under President Jacobo Árbenz, whose eventual CIA-assisted overthrow at the behest of the United Fruit Company solidified Guevara's political ideology.[6] Later in Mexico City, Guevara met Raúl and Fidel Castro, joined their 26th of July Movement, and sailed to Cuba aboard the yacht Granma with the intention of overthrowing U.S.-backed dictator Fulgencio Batista.[8] Guevara soon rose to prominence among the insurgents, was promoted to second-in-command, and played a pivotal role in the two-year guerrilla campaign that deposed the Batista regime.[9]\n",
        "\"\"\""
      ],
      "metadata": {
        "id": "OmiqINPqmInU"
      },
      "execution_count": 153,
      "outputs": []
    },
    {
      "cell_type": "code",
      "source": [
        "corpus"
      ],
      "metadata": {
        "colab": {
          "base_uri": "https://localhost:8080/",
          "height": 140
        },
        "id": "0_6D0KZNmT3l",
        "outputId": "52c50e4c-7e60-4d19-84cc-3487cd39d3ac"
      },
      "execution_count": 154,
      "outputs": [
        {
          "output_type": "execute_result",
          "data": {
            "text/plain": [
              "'\\n\\nErnesto \"Che\" Guevara (Spanish: [ˈtʃe ɣeˈβaɾa];[3] 14 June 1928[4] – 9 October 1967) was an Argentine Marxist revolutionary, physician, author, guerrilla leader, diplomat, and military theorist. A major figure of the Cuban Revolution, his stylized visage has become a ubiquitous countercultural symbol of rebellion and global insignia in popular culture.[5]\\n\\nAs a young medical student, Guevara traveled throughout South America and was radicalized by the poverty, hunger, and disease he witnessed.[6][7] His burgeoning desire to help overturn what he saw as the capitalist exploitation of Latin America by the United States prompted his involvement in Guatemala\\'s social reforms under President Jacobo Árbenz, whose eventual CIA-assisted overthrow at the behest of the United Fruit Company solidified Guevara\\'s political ideology.[6] Later in Mexico City, Guevara met Raúl and Fidel Castro, joined their 26th of July Movement, and sailed to Cuba aboard the yacht Granma with the intention of overthrowing U.S.-backed dictator Fulgencio Batista.[8] Guevara soon rose to prominence among the insurgents, was promoted to second-in-command, and played a pivotal role in the two-year guerrilla campaign that deposed the Batista regime.[9]\\n'"
            ],
            "application/vnd.google.colaboratory.intrinsic+json": {
              "type": "string"
            }
          },
          "metadata": {},
          "execution_count": 154
        }
      ]
    },
    {
      "cell_type": "code",
      "source": [
        "# Split paragraph into sentences\n",
        "sentences = nltk.sent_tokenize(corpus)"
      ],
      "metadata": {
        "id": "Y_48AcL5mYtU"
      },
      "execution_count": 155,
      "outputs": []
    },
    {
      "cell_type": "code",
      "source": [
        "sentences"
      ],
      "metadata": {
        "colab": {
          "base_uri": "https://localhost:8080/"
        },
        "id": "Sykt8Ax6rECO",
        "outputId": "aa061807-bdc5-4a90-cd13-dc24edcbe350"
      },
      "execution_count": 156,
      "outputs": [
        {
          "output_type": "execute_result",
          "data": {
            "text/plain": [
              "['\\n\\nErnesto \"Che\" Guevara (Spanish: [ˈtʃe ɣeˈβaɾa];[3] 14 June 1928[4] – 9 October 1967) was an Argentine Marxist revolutionary, physician, author, guerrilla leader, diplomat, and military theorist.',\n",
              " 'A major figure of the Cuban Revolution, his stylized visage has become a ubiquitous countercultural symbol of rebellion and global insignia in popular culture.',\n",
              " '[5]\\n\\nAs a young medical student, Guevara traveled throughout South America and was radicalized by the poverty, hunger, and disease he witnessed.',\n",
              " \"[6][7] His burgeoning desire to help overturn what he saw as the capitalist exploitation of Latin America by the United States prompted his involvement in Guatemala's social reforms under President Jacobo Árbenz, whose eventual CIA-assisted overthrow at the behest of the United Fruit Company solidified Guevara's political ideology.\",\n",
              " '[6] Later in Mexico City, Guevara met Raúl and Fidel Castro, joined their 26th of July Movement, and sailed to Cuba aboard the yacht Granma with the intention of overthrowing U.S.-backed dictator Fulgencio Batista.',\n",
              " '[8] Guevara soon rose to prominence among the insurgents, was promoted to second-in-command, and played a pivotal role in the two-year guerrilla campaign that deposed the Batista regime.',\n",
              " '[9]']"
            ]
          },
          "metadata": {},
          "execution_count": 156
        }
      ]
    },
    {
      "cell_type": "code",
      "source": [
        "type(sentences)"
      ],
      "metadata": {
        "colab": {
          "base_uri": "https://localhost:8080/"
        },
        "id": "Jh7DfjwAronV",
        "outputId": "c36aca9d-bc09-4f82-fcb3-c47309dc78fa"
      },
      "execution_count": 157,
      "outputs": [
        {
          "output_type": "execute_result",
          "data": {
            "text/plain": [
              "list"
            ]
          },
          "metadata": {},
          "execution_count": 157
        }
      ]
    },
    {
      "cell_type": "code",
      "source": [
        "# split sentence into words\n",
        "for sentence in sentences:\n",
        "  words = word_tokenize(sentence)\n",
        "  print(words)"
      ],
      "metadata": {
        "colab": {
          "base_uri": "https://localhost:8080/"
        },
        "id": "DgH7iZH6rLqd",
        "outputId": "bb3a2e31-2f39-4040-eaaa-f5cca8a4b486"
      },
      "execution_count": 158,
      "outputs": [
        {
          "output_type": "stream",
          "name": "stdout",
          "text": [
            "['Ernesto', '``', 'Che', \"''\", 'Guevara', '(', 'Spanish', ':', '[', 'ˈtʃe', 'ɣeˈβaɾa', ']', ';', '[', '3', ']', '14', 'June', '1928', '[', '4', ']', '–', '9', 'October', '1967', ')', 'was', 'an', 'Argentine', 'Marxist', 'revolutionary', ',', 'physician', ',', 'author', ',', 'guerrilla', 'leader', ',', 'diplomat', ',', 'and', 'military', 'theorist', '.']\n",
            "['A', 'major', 'figure', 'of', 'the', 'Cuban', 'Revolution', ',', 'his', 'stylized', 'visage', 'has', 'become', 'a', 'ubiquitous', 'countercultural', 'symbol', 'of', 'rebellion', 'and', 'global', 'insignia', 'in', 'popular', 'culture', '.']\n",
            "['[', '5', ']', 'As', 'a', 'young', 'medical', 'student', ',', 'Guevara', 'traveled', 'throughout', 'South', 'America', 'and', 'was', 'radicalized', 'by', 'the', 'poverty', ',', 'hunger', ',', 'and', 'disease', 'he', 'witnessed', '.']\n",
            "['[', '6', ']', '[', '7', ']', 'His', 'burgeoning', 'desire', 'to', 'help', 'overturn', 'what', 'he', 'saw', 'as', 'the', 'capitalist', 'exploitation', 'of', 'Latin', 'America', 'by', 'the', 'United', 'States', 'prompted', 'his', 'involvement', 'in', 'Guatemala', \"'s\", 'social', 'reforms', 'under', 'President', 'Jacobo', 'Árbenz', ',', 'whose', 'eventual', 'CIA-assisted', 'overthrow', 'at', 'the', 'behest', 'of', 'the', 'United', 'Fruit', 'Company', 'solidified', 'Guevara', \"'s\", 'political', 'ideology', '.']\n",
            "['[', '6', ']', 'Later', 'in', 'Mexico', 'City', ',', 'Guevara', 'met', 'Raúl', 'and', 'Fidel', 'Castro', ',', 'joined', 'their', '26th', 'of', 'July', 'Movement', ',', 'and', 'sailed', 'to', 'Cuba', 'aboard', 'the', 'yacht', 'Granma', 'with', 'the', 'intention', 'of', 'overthrowing', 'U.S.-backed', 'dictator', 'Fulgencio', 'Batista', '.']\n",
            "['[', '8', ']', 'Guevara', 'soon', 'rose', 'to', 'prominence', 'among', 'the', 'insurgents', ',', 'was', 'promoted', 'to', 'second-in-command', ',', 'and', 'played', 'a', 'pivotal', 'role', 'in', 'the', 'two-year', 'guerrilla', 'campaign', 'that', 'deposed', 'the', 'Batista', 'regime', '.']\n",
            "['[', '9', ']']\n"
          ]
        }
      ]
    },
    {
      "cell_type": "code",
      "source": [
        "type(words)"
      ],
      "metadata": {
        "colab": {
          "base_uri": "https://localhost:8080/"
        },
        "id": "OToVnIOnuLz0",
        "outputId": "de5f9846-a316-4b93-ace5-4c1bede60dea"
      },
      "execution_count": 159,
      "outputs": [
        {
          "output_type": "execute_result",
          "data": {
            "text/plain": [
              "list"
            ]
          },
          "metadata": {},
          "execution_count": 159
        }
      ]
    },
    {
      "cell_type": "code",
      "source": [
        "# Apply stopwords\n",
        "\n",
        "stop_words = set(stopwords.words('english')) # Get the stop words in english"
      ],
      "metadata": {
        "id": "dRqCtFHsxfWs"
      },
      "execution_count": 160,
      "outputs": []
    },
    {
      "cell_type": "code",
      "source": [
        "stop_words"
      ],
      "metadata": {
        "colab": {
          "base_uri": "https://localhost:8080/"
        },
        "id": "5ZuR-cJBxw8c",
        "outputId": "b1062d0c-10a3-4617-cf91-a6808c53d7c2"
      },
      "execution_count": 161,
      "outputs": [
        {
          "output_type": "execute_result",
          "data": {
            "text/plain": [
              "{'a',\n",
              " 'about',\n",
              " 'above',\n",
              " 'after',\n",
              " 'again',\n",
              " 'against',\n",
              " 'ain',\n",
              " 'all',\n",
              " 'am',\n",
              " 'an',\n",
              " 'and',\n",
              " 'any',\n",
              " 'are',\n",
              " 'aren',\n",
              " \"aren't\",\n",
              " 'as',\n",
              " 'at',\n",
              " 'be',\n",
              " 'because',\n",
              " 'been',\n",
              " 'before',\n",
              " 'being',\n",
              " 'below',\n",
              " 'between',\n",
              " 'both',\n",
              " 'but',\n",
              " 'by',\n",
              " 'can',\n",
              " 'couldn',\n",
              " \"couldn't\",\n",
              " 'd',\n",
              " 'did',\n",
              " 'didn',\n",
              " \"didn't\",\n",
              " 'do',\n",
              " 'does',\n",
              " 'doesn',\n",
              " \"doesn't\",\n",
              " 'doing',\n",
              " 'don',\n",
              " \"don't\",\n",
              " 'down',\n",
              " 'during',\n",
              " 'each',\n",
              " 'few',\n",
              " 'for',\n",
              " 'from',\n",
              " 'further',\n",
              " 'had',\n",
              " 'hadn',\n",
              " \"hadn't\",\n",
              " 'has',\n",
              " 'hasn',\n",
              " \"hasn't\",\n",
              " 'have',\n",
              " 'haven',\n",
              " \"haven't\",\n",
              " 'having',\n",
              " 'he',\n",
              " 'her',\n",
              " 'here',\n",
              " 'hers',\n",
              " 'herself',\n",
              " 'him',\n",
              " 'himself',\n",
              " 'his',\n",
              " 'how',\n",
              " 'i',\n",
              " 'if',\n",
              " 'in',\n",
              " 'into',\n",
              " 'is',\n",
              " 'isn',\n",
              " \"isn't\",\n",
              " 'it',\n",
              " \"it's\",\n",
              " 'its',\n",
              " 'itself',\n",
              " 'just',\n",
              " 'll',\n",
              " 'm',\n",
              " 'ma',\n",
              " 'me',\n",
              " 'mightn',\n",
              " \"mightn't\",\n",
              " 'more',\n",
              " 'most',\n",
              " 'mustn',\n",
              " \"mustn't\",\n",
              " 'my',\n",
              " 'myself',\n",
              " 'needn',\n",
              " \"needn't\",\n",
              " 'no',\n",
              " 'nor',\n",
              " 'not',\n",
              " 'now',\n",
              " 'o',\n",
              " 'of',\n",
              " 'off',\n",
              " 'on',\n",
              " 'once',\n",
              " 'only',\n",
              " 'or',\n",
              " 'other',\n",
              " 'our',\n",
              " 'ours',\n",
              " 'ourselves',\n",
              " 'out',\n",
              " 'over',\n",
              " 'own',\n",
              " 're',\n",
              " 's',\n",
              " 'same',\n",
              " 'shan',\n",
              " \"shan't\",\n",
              " 'she',\n",
              " \"she's\",\n",
              " 'should',\n",
              " \"should've\",\n",
              " 'shouldn',\n",
              " \"shouldn't\",\n",
              " 'so',\n",
              " 'some',\n",
              " 'such',\n",
              " 't',\n",
              " 'than',\n",
              " 'that',\n",
              " \"that'll\",\n",
              " 'the',\n",
              " 'their',\n",
              " 'theirs',\n",
              " 'them',\n",
              " 'themselves',\n",
              " 'then',\n",
              " 'there',\n",
              " 'these',\n",
              " 'they',\n",
              " 'this',\n",
              " 'those',\n",
              " 'through',\n",
              " 'to',\n",
              " 'too',\n",
              " 'under',\n",
              " 'until',\n",
              " 'up',\n",
              " 've',\n",
              " 'very',\n",
              " 'was',\n",
              " 'wasn',\n",
              " \"wasn't\",\n",
              " 'we',\n",
              " 'were',\n",
              " 'weren',\n",
              " \"weren't\",\n",
              " 'what',\n",
              " 'when',\n",
              " 'where',\n",
              " 'which',\n",
              " 'while',\n",
              " 'who',\n",
              " 'whom',\n",
              " 'why',\n",
              " 'will',\n",
              " 'with',\n",
              " 'won',\n",
              " \"won't\",\n",
              " 'wouldn',\n",
              " \"wouldn't\",\n",
              " 'y',\n",
              " 'you',\n",
              " \"you'd\",\n",
              " \"you'll\",\n",
              " \"you're\",\n",
              " \"you've\",\n",
              " 'your',\n",
              " 'yours',\n",
              " 'yourself',\n",
              " 'yourselves'}"
            ]
          },
          "metadata": {},
          "execution_count": 161
        }
      ]
    }
  ]
}