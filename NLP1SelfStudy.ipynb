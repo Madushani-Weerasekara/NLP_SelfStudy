{
  "nbformat": 4,
  "nbformat_minor": 0,
  "metadata": {
    "colab": {
      "provenance": [],
      "authorship_tag": "ABX9TyPf8TwX+rl83NdORLUrmgtK",
      "include_colab_link": true
    },
    "kernelspec": {
      "name": "python3",
      "display_name": "Python 3"
    },
    "language_info": {
      "name": "python"
    }
  },
  "cells": [
    {
      "cell_type": "markdown",
      "metadata": {
        "id": "view-in-github",
        "colab_type": "text"
      },
      "source": [
        "<a href=\"https://colab.research.google.com/github/Madushani-Weerasekara/NLP_SelfStudy/blob/main/NLP1SelfStudy.ipynb\" target=\"_parent\"><img src=\"https://colab.research.google.com/assets/colab-badge.svg\" alt=\"Open In Colab\"/></a>"
      ]
    },
    {
      "cell_type": "code",
      "source": [
        "# Import libraries\n",
        "import nltk\n",
        "from nltk.corpus import stopwords\n",
        "from nltk.tokenize import sent_tokenize , word_tokenize\n",
        "from nltk.stem import PorterStemmer , WordNetLemmatizer\n"
      ],
      "metadata": {
        "id": "WNCrFAWvjyLY"
      },
      "execution_count": 101,
      "outputs": []
    },
    {
      "cell_type": "code",
      "source": [
        "nltk.download('punkt')\n",
        "nltk.download('stopwords')\n",
        "nltk.download('wordnet')"
      ],
      "metadata": {
        "colab": {
          "base_uri": "https://localhost:8080/"
        },
        "id": "8xgFh_SQlmA9",
        "outputId": "86022199-e391-4a99-dd90-e2f0a226bcb8"
      },
      "execution_count": 102,
      "outputs": [
        {
          "output_type": "stream",
          "name": "stderr",
          "text": [
            "[nltk_data] Downloading package punkt to /root/nltk_data...\n",
            "[nltk_data]   Package punkt is already up-to-date!\n",
            "[nltk_data] Downloading package stopwords to /root/nltk_data...\n",
            "[nltk_data]   Package stopwords is already up-to-date!\n",
            "[nltk_data] Downloading package wordnet to /root/nltk_data...\n",
            "[nltk_data]   Package wordnet is already up-to-date!\n"
          ]
        },
        {
          "output_type": "execute_result",
          "data": {
            "text/plain": [
              "True"
            ]
          },
          "metadata": {},
          "execution_count": 102
        }
      ]
    },
    {
      "cell_type": "code",
      "source": [
        "\n",
        "corpus = \"\"\"\n",
        "\n",
        "Ernesto \"Che\" Guevara (Spanish: [ˈtʃe ɣeˈβaɾa];[3] 14 June 1928[4] – 9 October 1967) was an Argentine Marxist revolutionary, physician, author, guerrilla leader, diplomat, and military theorist. A major figure of the Cuban Revolution, his stylized visage has become a ubiquitous countercultural symbol of rebellion and global insignia in popular culture.[5]\n",
        "\n",
        "As a young medical student, Guevara traveled throughout South America and was radicalized by the poverty, hunger, and disease he witnessed.[6][7] His burgeoning desire to help overturn what he saw as the capitalist exploitation of Latin America by the United States prompted his involvement in Guatemala's social reforms under President Jacobo Árbenz, whose eventual CIA-assisted overthrow at the behest of the United Fruit Company solidified Guevara's political ideology.[6] Later in Mexico City, Guevara met Raúl and Fidel Castro, joined their 26th of July Movement, and sailed to Cuba aboard the yacht Granma with the intention of overthrowing U.S.-backed dictator Fulgencio Batista.[8] Guevara soon rose to prominence among the insurgents, was promoted to second-in-command, and played a pivotal role in the two-year guerrilla campaign that deposed the Batista regime.[9]\n",
        "\"\"\""
      ],
      "metadata": {
        "id": "OmiqINPqmInU"
      },
      "execution_count": 103,
      "outputs": []
    },
    {
      "cell_type": "code",
      "source": [
        "corpus"
      ],
      "metadata": {
        "colab": {
          "base_uri": "https://localhost:8080/",
          "height": 140
        },
        "id": "0_6D0KZNmT3l",
        "outputId": "4f19039f-e867-4319-9753-f129d8f79bd0"
      },
      "execution_count": 104,
      "outputs": [
        {
          "output_type": "execute_result",
          "data": {
            "text/plain": [
              "'\\n\\nErnesto \"Che\" Guevara (Spanish: [ˈtʃe ɣeˈβaɾa];[3] 14 June 1928[4] – 9 October 1967) was an Argentine Marxist revolutionary, physician, author, guerrilla leader, diplomat, and military theorist. A major figure of the Cuban Revolution, his stylized visage has become a ubiquitous countercultural symbol of rebellion and global insignia in popular culture.[5]\\n\\nAs a young medical student, Guevara traveled throughout South America and was radicalized by the poverty, hunger, and disease he witnessed.[6][7] His burgeoning desire to help overturn what he saw as the capitalist exploitation of Latin America by the United States prompted his involvement in Guatemala\\'s social reforms under President Jacobo Árbenz, whose eventual CIA-assisted overthrow at the behest of the United Fruit Company solidified Guevara\\'s political ideology.[6] Later in Mexico City, Guevara met Raúl and Fidel Castro, joined their 26th of July Movement, and sailed to Cuba aboard the yacht Granma with the intention of overthrowing U.S.-backed dictator Fulgencio Batista.[8] Guevara soon rose to prominence among the insurgents, was promoted to second-in-command, and played a pivotal role in the two-year guerrilla campaign that deposed the Batista regime.[9]\\n'"
            ],
            "application/vnd.google.colaboratory.intrinsic+json": {
              "type": "string"
            }
          },
          "metadata": {},
          "execution_count": 104
        }
      ]
    },
    {
      "cell_type": "code",
      "source": [
        "# Split paragraph into sentences\n",
        "sentences = nltk.sent_tokenize(corpus)"
      ],
      "metadata": {
        "id": "Y_48AcL5mYtU"
      },
      "execution_count": 105,
      "outputs": []
    },
    {
      "cell_type": "code",
      "source": [
        "sentences"
      ],
      "metadata": {
        "colab": {
          "base_uri": "https://localhost:8080/"
        },
        "id": "Sykt8Ax6rECO",
        "outputId": "2838c274-ba8f-4ef8-d09f-b0b10a0c9839"
      },
      "execution_count": 106,
      "outputs": [
        {
          "output_type": "execute_result",
          "data": {
            "text/plain": [
              "['\\n\\nErnesto \"Che\" Guevara (Spanish: [ˈtʃe ɣeˈβaɾa];[3] 14 June 1928[4] – 9 October 1967) was an Argentine Marxist revolutionary, physician, author, guerrilla leader, diplomat, and military theorist.',\n",
              " 'A major figure of the Cuban Revolution, his stylized visage has become a ubiquitous countercultural symbol of rebellion and global insignia in popular culture.',\n",
              " '[5]\\n\\nAs a young medical student, Guevara traveled throughout South America and was radicalized by the poverty, hunger, and disease he witnessed.',\n",
              " \"[6][7] His burgeoning desire to help overturn what he saw as the capitalist exploitation of Latin America by the United States prompted his involvement in Guatemala's social reforms under President Jacobo Árbenz, whose eventual CIA-assisted overthrow at the behest of the United Fruit Company solidified Guevara's political ideology.\",\n",
              " '[6] Later in Mexico City, Guevara met Raúl and Fidel Castro, joined their 26th of July Movement, and sailed to Cuba aboard the yacht Granma with the intention of overthrowing U.S.-backed dictator Fulgencio Batista.',\n",
              " '[8] Guevara soon rose to prominence among the insurgents, was promoted to second-in-command, and played a pivotal role in the two-year guerrilla campaign that deposed the Batista regime.',\n",
              " '[9]']"
            ]
          },
          "metadata": {},
          "execution_count": 106
        }
      ]
    },
    {
      "cell_type": "code",
      "source": [
        "type(sentences)"
      ],
      "metadata": {
        "colab": {
          "base_uri": "https://localhost:8080/"
        },
        "id": "Jh7DfjwAronV",
        "outputId": "7bc2e97d-95d5-4da6-fae5-42786d19bffe"
      },
      "execution_count": 107,
      "outputs": [
        {
          "output_type": "execute_result",
          "data": {
            "text/plain": [
              "list"
            ]
          },
          "metadata": {},
          "execution_count": 107
        }
      ]
    },
    {
      "cell_type": "code",
      "source": [
        "# split sentence into words\n",
        "for sentence in sentences:\n",
        "  words = word_tokenize(sentence)\n",
        "  print(words)"
      ],
      "metadata": {
        "colab": {
          "base_uri": "https://localhost:8080/"
        },
        "id": "DgH7iZH6rLqd",
        "outputId": "0d90d5e8-de56-4122-c624-4a072edcf3fb"
      },
      "execution_count": 112,
      "outputs": [
        {
          "output_type": "stream",
          "name": "stdout",
          "text": [
            "['Ernesto', '``', 'Che', \"''\", 'Guevara', '(', 'Spanish', ':', '[', 'ˈtʃe', 'ɣeˈβaɾa', ']', ';', '[', '3', ']', '14', 'June', '1928', '[', '4', ']', '–', '9', 'October', '1967', ')', 'was', 'an', 'Argentine', 'Marxist', 'revolutionary', ',', 'physician', ',', 'author', ',', 'guerrilla', 'leader', ',', 'diplomat', ',', 'and', 'military', 'theorist', '.']\n",
            "['A', 'major', 'figure', 'of', 'the', 'Cuban', 'Revolution', ',', 'his', 'stylized', 'visage', 'has', 'become', 'a', 'ubiquitous', 'countercultural', 'symbol', 'of', 'rebellion', 'and', 'global', 'insignia', 'in', 'popular', 'culture', '.']\n",
            "['[', '5', ']', 'As', 'a', 'young', 'medical', 'student', ',', 'Guevara', 'traveled', 'throughout', 'South', 'America', 'and', 'was', 'radicalized', 'by', 'the', 'poverty', ',', 'hunger', ',', 'and', 'disease', 'he', 'witnessed', '.']\n",
            "['[', '6', ']', '[', '7', ']', 'His', 'burgeoning', 'desire', 'to', 'help', 'overturn', 'what', 'he', 'saw', 'as', 'the', 'capitalist', 'exploitation', 'of', 'Latin', 'America', 'by', 'the', 'United', 'States', 'prompted', 'his', 'involvement', 'in', 'Guatemala', \"'s\", 'social', 'reforms', 'under', 'President', 'Jacobo', 'Árbenz', ',', 'whose', 'eventual', 'CIA-assisted', 'overthrow', 'at', 'the', 'behest', 'of', 'the', 'United', 'Fruit', 'Company', 'solidified', 'Guevara', \"'s\", 'political', 'ideology', '.']\n",
            "['[', '6', ']', 'Later', 'in', 'Mexico', 'City', ',', 'Guevara', 'met', 'Raúl', 'and', 'Fidel', 'Castro', ',', 'joined', 'their', '26th', 'of', 'July', 'Movement', ',', 'and', 'sailed', 'to', 'Cuba', 'aboard', 'the', 'yacht', 'Granma', 'with', 'the', 'intention', 'of', 'overthrowing', 'U.S.-backed', 'dictator', 'Fulgencio', 'Batista', '.']\n",
            "['[', '8', ']', 'Guevara', 'soon', 'rose', 'to', 'prominence', 'among', 'the', 'insurgents', ',', 'was', 'promoted', 'to', 'second-in-command', ',', 'and', 'played', 'a', 'pivotal', 'role', 'in', 'the', 'two-year', 'guerrilla', 'campaign', 'that', 'deposed', 'the', 'Batista', 'regime', '.']\n",
            "['[', '9', ']']\n"
          ]
        }
      ]
    },
    {
      "cell_type": "code",
      "source": [
        "type(words)"
      ],
      "metadata": {
        "colab": {
          "base_uri": "https://localhost:8080/"
        },
        "id": "OToVnIOnuLz0",
        "outputId": "7867efef-da5e-403b-fdac-0ca73841880d"
      },
      "execution_count": 113,
      "outputs": [
        {
          "output_type": "execute_result",
          "data": {
            "text/plain": [
              "list"
            ]
          },
          "metadata": {},
          "execution_count": 113
        }
      ]
    }
  ]
}