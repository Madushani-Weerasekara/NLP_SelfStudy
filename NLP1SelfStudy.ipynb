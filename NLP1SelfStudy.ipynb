{
  "nbformat": 4,
  "nbformat_minor": 0,
  "metadata": {
    "colab": {
      "provenance": [],
      "authorship_tag": "ABX9TyPBCr+z4UTEaIp9RSbhgE+o",
      "include_colab_link": true
    },
    "kernelspec": {
      "name": "python3",
      "display_name": "Python 3"
    },
    "language_info": {
      "name": "python"
    }
  },
  "cells": [
    {
      "cell_type": "markdown",
      "metadata": {
        "id": "view-in-github",
        "colab_type": "text"
      },
      "source": [
        "<a href=\"https://colab.research.google.com/github/Madushani-Weerasekara/NLP_SelfStudy/blob/main/NLP1SelfStudy.ipynb\" target=\"_parent\"><img src=\"https://colab.research.google.com/assets/colab-badge.svg\" alt=\"Open In Colab\"/></a>"
      ]
    },
    {
      "cell_type": "code",
      "source": [
        "# Import libraries\n",
        "import nltk\n",
        "from nltk.corpus import stopwords\n",
        "from nltk.tokenize import sent_tokenize , word_tokenize\n",
        "from nltk.stem import PorterStemmer , WordNetLemmatizer\n"
      ],
      "metadata": {
        "id": "WNCrFAWvjyLY"
      },
      "execution_count": 159,
      "outputs": []
    },
    {
      "cell_type": "code",
      "source": [
        "nltk.download('punkt')\n",
        "nltk.download('stopwords')\n",
        "nltk.download('wordnet')"
      ],
      "metadata": {
        "colab": {
          "base_uri": "https://localhost:8080/"
        },
        "id": "8xgFh_SQlmA9",
        "outputId": "cb55720a-d415-4dd7-e0e7-5f0fa6974295"
      },
      "execution_count": 160,
      "outputs": [
        {
          "output_type": "stream",
          "name": "stderr",
          "text": [
            "[nltk_data] Downloading package punkt to /root/nltk_data...\n",
            "[nltk_data]   Package punkt is already up-to-date!\n",
            "[nltk_data] Downloading package stopwords to /root/nltk_data...\n",
            "[nltk_data]   Package stopwords is already up-to-date!\n",
            "[nltk_data] Downloading package wordnet to /root/nltk_data...\n",
            "[nltk_data]   Package wordnet is already up-to-date!\n"
          ]
        },
        {
          "output_type": "execute_result",
          "data": {
            "text/plain": [
              "True"
            ]
          },
          "metadata": {},
          "execution_count": 160
        }
      ]
    },
    {
      "cell_type": "code",
      "source": [
        "\n",
        "corpus = \"\"\"\n",
        "\n",
        "Ernesto \"Che\" Guevara (Spanish: [ˈtʃe ɣeˈβaɾa];[3] 14 June 1928[4] – 9 October 1967) was an Argentine Marxist revolutionary, physician, author, guerrilla leader, diplomat, and military theorist. A major figure of the Cuban Revolution, his stylized visage has become a ubiquitous countercultural symbol of rebellion and global insignia in popular culture.[5]\n",
        "\n",
        "As a young medical student, Guevara traveled throughout South America and was radicalized by the poverty, hunger, and disease he witnessed.[6][7] His burgeoning desire to help overturn what he saw as the capitalist exploitation of Latin America by the United States prompted his involvement in Guatemala's social reforms under President Jacobo Árbenz, whose eventual CIA-assisted overthrow at the behest of the United Fruit Company solidified Guevara's political ideology.[6] Later in Mexico City, Guevara met Raúl and Fidel Castro, joined their 26th of July Movement, and sailed to Cuba aboard the yacht Granma with the intention of overthrowing U.S.-backed dictator Fulgencio Batista.[8] Guevara soon rose to prominence among the insurgents, was promoted to second-in-command, and played a pivotal role in the two-year guerrilla campaign that deposed the Batista regime.[9]\n",
        "\"\"\""
      ],
      "metadata": {
        "id": "OmiqINPqmInU"
      },
      "execution_count": 161,
      "outputs": []
    },
    {
      "cell_type": "code",
      "source": [
        "corpus"
      ],
      "metadata": {
        "colab": {
          "base_uri": "https://localhost:8080/",
          "height": 142
        },
        "id": "0_6D0KZNmT3l",
        "outputId": "00c8af2e-9de4-4871-c493-bee9b67e0f20"
      },
      "execution_count": 162,
      "outputs": [
        {
          "output_type": "execute_result",
          "data": {
            "text/plain": [
              "'\\n\\nErnesto \"Che\" Guevara (Spanish: [ˈtʃe ɣeˈβaɾa];[3] 14 June 1928[4] – 9 October 1967) was an Argentine Marxist revolutionary, physician, author, guerrilla leader, diplomat, and military theorist. A major figure of the Cuban Revolution, his stylized visage has become a ubiquitous countercultural symbol of rebellion and global insignia in popular culture.[5]\\n\\nAs a young medical student, Guevara traveled throughout South America and was radicalized by the poverty, hunger, and disease he witnessed.[6][7] His burgeoning desire to help overturn what he saw as the capitalist exploitation of Latin America by the United States prompted his involvement in Guatemala\\'s social reforms under President Jacobo Árbenz, whose eventual CIA-assisted overthrow at the behest of the United Fruit Company solidified Guevara\\'s political ideology.[6] Later in Mexico City, Guevara met Raúl and Fidel Castro, joined their 26th of July Movement, and sailed to Cuba aboard the yacht Granma with the intention of overthrowing U.S.-backed dictator Fulgencio Batista.[8] Guevara soon rose to prominence among the insurgents, was promoted to second-in-command, and played a pivotal role in the two-year guerrilla campaign that deposed the Batista regime.[9]\\n'"
            ],
            "application/vnd.google.colaboratory.intrinsic+json": {
              "type": "string"
            }
          },
          "metadata": {},
          "execution_count": 162
        }
      ]
    },
    {
      "cell_type": "code",
      "source": [
        "# Split paragraph into sentences\n",
        "sentences = nltk.sent_tokenize(corpus)"
      ],
      "metadata": {
        "id": "Y_48AcL5mYtU"
      },
      "execution_count": 163,
      "outputs": []
    },
    {
      "cell_type": "code",
      "source": [
        "sentences"
      ],
      "metadata": {
        "colab": {
          "base_uri": "https://localhost:8080/"
        },
        "id": "Sykt8Ax6rECO",
        "outputId": "82af5fd5-a96e-4fb4-cb05-4880e0804d74"
      },
      "execution_count": 164,
      "outputs": [
        {
          "output_type": "execute_result",
          "data": {
            "text/plain": [
              "['\\n\\nErnesto \"Che\" Guevara (Spanish: [ˈtʃe ɣeˈβaɾa];[3] 14 June 1928[4] – 9 October 1967) was an Argentine Marxist revolutionary, physician, author, guerrilla leader, diplomat, and military theorist.',\n",
              " 'A major figure of the Cuban Revolution, his stylized visage has become a ubiquitous countercultural symbol of rebellion and global insignia in popular culture.',\n",
              " '[5]\\n\\nAs a young medical student, Guevara traveled throughout South America and was radicalized by the poverty, hunger, and disease he witnessed.',\n",
              " \"[6][7] His burgeoning desire to help overturn what he saw as the capitalist exploitation of Latin America by the United States prompted his involvement in Guatemala's social reforms under President Jacobo Árbenz, whose eventual CIA-assisted overthrow at the behest of the United Fruit Company solidified Guevara's political ideology.\",\n",
              " '[6] Later in Mexico City, Guevara met Raúl and Fidel Castro, joined their 26th of July Movement, and sailed to Cuba aboard the yacht Granma with the intention of overthrowing U.S.-backed dictator Fulgencio Batista.',\n",
              " '[8] Guevara soon rose to prominence among the insurgents, was promoted to second-in-command, and played a pivotal role in the two-year guerrilla campaign that deposed the Batista regime.',\n",
              " '[9]']"
            ]
          },
          "metadata": {},
          "execution_count": 164
        }
      ]
    },
    {
      "cell_type": "code",
      "source": [
        "type(sentences)"
      ],
      "metadata": {
        "colab": {
          "base_uri": "https://localhost:8080/"
        },
        "id": "Jh7DfjwAronV",
        "outputId": "1096354e-2129-4670-9b5e-6e46851d0919"
      },
      "execution_count": 165,
      "outputs": [
        {
          "output_type": "execute_result",
          "data": {
            "text/plain": [
              "list"
            ]
          },
          "metadata": {},
          "execution_count": 165
        }
      ]
    },
    {
      "cell_type": "code",
      "source": [
        "# split sentence into words\n",
        "for sentence in sentences:\n",
        "  words = word_tokenize(sentence)\n",
        "  print(words)"
      ],
      "metadata": {
        "colab": {
          "base_uri": "https://localhost:8080/"
        },
        "id": "DgH7iZH6rLqd",
        "outputId": "70183289-1c18-41e0-c530-58e086db0703"
      },
      "execution_count": 166,
      "outputs": [
        {
          "output_type": "stream",
          "name": "stdout",
          "text": [
            "['Ernesto', '``', 'Che', \"''\", 'Guevara', '(', 'Spanish', ':', '[', 'ˈtʃe', 'ɣeˈβaɾa', ']', ';', '[', '3', ']', '14', 'June', '1928', '[', '4', ']', '–', '9', 'October', '1967', ')', 'was', 'an', 'Argentine', 'Marxist', 'revolutionary', ',', 'physician', ',', 'author', ',', 'guerrilla', 'leader', ',', 'diplomat', ',', 'and', 'military', 'theorist', '.']\n",
            "['A', 'major', 'figure', 'of', 'the', 'Cuban', 'Revolution', ',', 'his', 'stylized', 'visage', 'has', 'become', 'a', 'ubiquitous', 'countercultural', 'symbol', 'of', 'rebellion', 'and', 'global', 'insignia', 'in', 'popular', 'culture', '.']\n",
            "['[', '5', ']', 'As', 'a', 'young', 'medical', 'student', ',', 'Guevara', 'traveled', 'throughout', 'South', 'America', 'and', 'was', 'radicalized', 'by', 'the', 'poverty', ',', 'hunger', ',', 'and', 'disease', 'he', 'witnessed', '.']\n",
            "['[', '6', ']', '[', '7', ']', 'His', 'burgeoning', 'desire', 'to', 'help', 'overturn', 'what', 'he', 'saw', 'as', 'the', 'capitalist', 'exploitation', 'of', 'Latin', 'America', 'by', 'the', 'United', 'States', 'prompted', 'his', 'involvement', 'in', 'Guatemala', \"'s\", 'social', 'reforms', 'under', 'President', 'Jacobo', 'Árbenz', ',', 'whose', 'eventual', 'CIA-assisted', 'overthrow', 'at', 'the', 'behest', 'of', 'the', 'United', 'Fruit', 'Company', 'solidified', 'Guevara', \"'s\", 'political', 'ideology', '.']\n",
            "['[', '6', ']', 'Later', 'in', 'Mexico', 'City', ',', 'Guevara', 'met', 'Raúl', 'and', 'Fidel', 'Castro', ',', 'joined', 'their', '26th', 'of', 'July', 'Movement', ',', 'and', 'sailed', 'to', 'Cuba', 'aboard', 'the', 'yacht', 'Granma', 'with', 'the', 'intention', 'of', 'overthrowing', 'U.S.-backed', 'dictator', 'Fulgencio', 'Batista', '.']\n",
            "['[', '8', ']', 'Guevara', 'soon', 'rose', 'to', 'prominence', 'among', 'the', 'insurgents', ',', 'was', 'promoted', 'to', 'second-in-command', ',', 'and', 'played', 'a', 'pivotal', 'role', 'in', 'the', 'two-year', 'guerrilla', 'campaign', 'that', 'deposed', 'the', 'Batista', 'regime', '.']\n",
            "['[', '9', ']']\n"
          ]
        }
      ]
    },
    {
      "cell_type": "code",
      "source": [
        "type(words)"
      ],
      "metadata": {
        "colab": {
          "base_uri": "https://localhost:8080/"
        },
        "id": "OToVnIOnuLz0",
        "outputId": "492574ce-2522-405e-d2f3-5ad8683da6e2"
      },
      "execution_count": 167,
      "outputs": [
        {
          "output_type": "execute_result",
          "data": {
            "text/plain": [
              "list"
            ]
          },
          "metadata": {},
          "execution_count": 167
        }
      ]
    },
    {
      "cell_type": "code",
      "source": [
        "# Apply stopwords\n",
        "\n",
        "stop_words = set(stopwords.words('english')) # Get the stop words in english\n",
        "stop_words"
      ],
      "metadata": {
        "id": "dRqCtFHsxfWs",
        "colab": {
          "base_uri": "https://localhost:8080/"
        },
        "outputId": "61be4654-b311-433f-9a6e-b9ac48d04bea"
      },
      "execution_count": 168,
      "outputs": [
        {
          "output_type": "execute_result",
          "data": {
            "text/plain": [
              "{'a',\n",
              " 'about',\n",
              " 'above',\n",
              " 'after',\n",
              " 'again',\n",
              " 'against',\n",
              " 'ain',\n",
              " 'all',\n",
              " 'am',\n",
              " 'an',\n",
              " 'and',\n",
              " 'any',\n",
              " 'are',\n",
              " 'aren',\n",
              " \"aren't\",\n",
              " 'as',\n",
              " 'at',\n",
              " 'be',\n",
              " 'because',\n",
              " 'been',\n",
              " 'before',\n",
              " 'being',\n",
              " 'below',\n",
              " 'between',\n",
              " 'both',\n",
              " 'but',\n",
              " 'by',\n",
              " 'can',\n",
              " 'couldn',\n",
              " \"couldn't\",\n",
              " 'd',\n",
              " 'did',\n",
              " 'didn',\n",
              " \"didn't\",\n",
              " 'do',\n",
              " 'does',\n",
              " 'doesn',\n",
              " \"doesn't\",\n",
              " 'doing',\n",
              " 'don',\n",
              " \"don't\",\n",
              " 'down',\n",
              " 'during',\n",
              " 'each',\n",
              " 'few',\n",
              " 'for',\n",
              " 'from',\n",
              " 'further',\n",
              " 'had',\n",
              " 'hadn',\n",
              " \"hadn't\",\n",
              " 'has',\n",
              " 'hasn',\n",
              " \"hasn't\",\n",
              " 'have',\n",
              " 'haven',\n",
              " \"haven't\",\n",
              " 'having',\n",
              " 'he',\n",
              " 'her',\n",
              " 'here',\n",
              " 'hers',\n",
              " 'herself',\n",
              " 'him',\n",
              " 'himself',\n",
              " 'his',\n",
              " 'how',\n",
              " 'i',\n",
              " 'if',\n",
              " 'in',\n",
              " 'into',\n",
              " 'is',\n",
              " 'isn',\n",
              " \"isn't\",\n",
              " 'it',\n",
              " \"it's\",\n",
              " 'its',\n",
              " 'itself',\n",
              " 'just',\n",
              " 'll',\n",
              " 'm',\n",
              " 'ma',\n",
              " 'me',\n",
              " 'mightn',\n",
              " \"mightn't\",\n",
              " 'more',\n",
              " 'most',\n",
              " 'mustn',\n",
              " \"mustn't\",\n",
              " 'my',\n",
              " 'myself',\n",
              " 'needn',\n",
              " \"needn't\",\n",
              " 'no',\n",
              " 'nor',\n",
              " 'not',\n",
              " 'now',\n",
              " 'o',\n",
              " 'of',\n",
              " 'off',\n",
              " 'on',\n",
              " 'once',\n",
              " 'only',\n",
              " 'or',\n",
              " 'other',\n",
              " 'our',\n",
              " 'ours',\n",
              " 'ourselves',\n",
              " 'out',\n",
              " 'over',\n",
              " 'own',\n",
              " 're',\n",
              " 's',\n",
              " 'same',\n",
              " 'shan',\n",
              " \"shan't\",\n",
              " 'she',\n",
              " \"she's\",\n",
              " 'should',\n",
              " \"should've\",\n",
              " 'shouldn',\n",
              " \"shouldn't\",\n",
              " 'so',\n",
              " 'some',\n",
              " 'such',\n",
              " 't',\n",
              " 'than',\n",
              " 'that',\n",
              " \"that'll\",\n",
              " 'the',\n",
              " 'their',\n",
              " 'theirs',\n",
              " 'them',\n",
              " 'themselves',\n",
              " 'then',\n",
              " 'there',\n",
              " 'these',\n",
              " 'they',\n",
              " 'this',\n",
              " 'those',\n",
              " 'through',\n",
              " 'to',\n",
              " 'too',\n",
              " 'under',\n",
              " 'until',\n",
              " 'up',\n",
              " 've',\n",
              " 'very',\n",
              " 'was',\n",
              " 'wasn',\n",
              " \"wasn't\",\n",
              " 'we',\n",
              " 'were',\n",
              " 'weren',\n",
              " \"weren't\",\n",
              " 'what',\n",
              " 'when',\n",
              " 'where',\n",
              " 'which',\n",
              " 'while',\n",
              " 'who',\n",
              " 'whom',\n",
              " 'why',\n",
              " 'will',\n",
              " 'with',\n",
              " 'won',\n",
              " \"won't\",\n",
              " 'wouldn',\n",
              " \"wouldn't\",\n",
              " 'y',\n",
              " 'you',\n",
              " \"you'd\",\n",
              " \"you'll\",\n",
              " \"you're\",\n",
              " \"you've\",\n",
              " 'your',\n",
              " 'yours',\n",
              " 'yourself',\n",
              " 'yourselves'}"
            ]
          },
          "metadata": {},
          "execution_count": 168
        }
      ]
    },
    {
      "cell_type": "code",
      "source": [
        "len(sentences)"
      ],
      "metadata": {
        "colab": {
          "base_uri": "https://localhost:8080/"
        },
        "id": "Et5Bjkf7V4XR",
        "outputId": "b3ce0d01-94bd-4939-9d11-b306202e8b49"
      },
      "execution_count": 169,
      "outputs": [
        {
          "output_type": "execute_result",
          "data": {
            "text/plain": [
              "7"
            ]
          },
          "metadata": {},
          "execution_count": 169
        }
      ]
    },
    {
      "cell_type": "code",
      "source": [
        "# Clean the text using regular expression\n",
        "import re  # import regular expression for cleaning purpose\n",
        "corpus = []\n",
        "for i in range(len(sentence)):\n",
        "\n",
        "  filtered_words = re.sub('[^a-zA-Z0-9]', ' ', sentences[i])\n",
        "  filtered_words = filtered_words.lower()\n",
        "  filtered_words = filtered_words.split()\n",
        "  corpus.append(filtered_words)\n",
        "\n",
        "  print(corpus)\n"
      ],
      "metadata": {
        "id": "WTN2sH9ryWbt",
        "colab": {
          "base_uri": "https://localhost:8080/"
        },
        "outputId": "cdbf2953-8b74-4459-c1e7-4fa3d95530e0"
      },
      "execution_count": 170,
      "outputs": [
        {
          "output_type": "stream",
          "name": "stdout",
          "text": [
            "[['ernesto', 'che', 'guevara', 'spanish', 't', 'e', 'e', 'a', 'a', '3', '14', 'june', '1928', '4', '9', 'october', '1967', 'was', 'an', 'argentine', 'marxist', 'revolutionary', 'physician', 'author', 'guerrilla', 'leader', 'diplomat', 'and', 'military', 'theorist']]\n",
            "[['ernesto', 'che', 'guevara', 'spanish', 't', 'e', 'e', 'a', 'a', '3', '14', 'june', '1928', '4', '9', 'october', '1967', 'was', 'an', 'argentine', 'marxist', 'revolutionary', 'physician', 'author', 'guerrilla', 'leader', 'diplomat', 'and', 'military', 'theorist'], ['a', 'major', 'figure', 'of', 'the', 'cuban', 'revolution', 'his', 'stylized', 'visage', 'has', 'become', 'a', 'ubiquitous', 'countercultural', 'symbol', 'of', 'rebellion', 'and', 'global', 'insignia', 'in', 'popular', 'culture']]\n",
            "[['ernesto', 'che', 'guevara', 'spanish', 't', 'e', 'e', 'a', 'a', '3', '14', 'june', '1928', '4', '9', 'october', '1967', 'was', 'an', 'argentine', 'marxist', 'revolutionary', 'physician', 'author', 'guerrilla', 'leader', 'diplomat', 'and', 'military', 'theorist'], ['a', 'major', 'figure', 'of', 'the', 'cuban', 'revolution', 'his', 'stylized', 'visage', 'has', 'become', 'a', 'ubiquitous', 'countercultural', 'symbol', 'of', 'rebellion', 'and', 'global', 'insignia', 'in', 'popular', 'culture'], ['5', 'as', 'a', 'young', 'medical', 'student', 'guevara', 'traveled', 'throughout', 'south', 'america', 'and', 'was', 'radicalized', 'by', 'the', 'poverty', 'hunger', 'and', 'disease', 'he', 'witnessed']]\n"
          ]
        }
      ]
    },
    {
      "cell_type": "code",
      "source": [
        "#Word Tokenization\n",
        "\n",
        "tokenized_words = []\n",
        "\n",
        "for sentence in corpus:\n",
        "  for sentence in sentences:\n",
        "    token_words = nltk.word_tokenize(sentence)\n",
        "    tokenized_words.extend(token_words)\n",
        "\n",
        "    print(tokenized_words)"
      ],
      "metadata": {
        "colab": {
          "base_uri": "https://localhost:8080/"
        },
        "id": "ZYuXxwFNRr2x",
        "outputId": "77851819-301d-4510-9011-e0055d7920a0"
      },
      "execution_count": 171,
      "outputs": [
        {
          "output_type": "stream",
          "name": "stdout",
          "text": [
            "['Ernesto', '``', 'Che', \"''\", 'Guevara', '(', 'Spanish', ':', '[', 'ˈtʃe', 'ɣeˈβaɾa', ']', ';', '[', '3', ']', '14', 'June', '1928', '[', '4', ']', '–', '9', 'October', '1967', ')', 'was', 'an', 'Argentine', 'Marxist', 'revolutionary', ',', 'physician', ',', 'author', ',', 'guerrilla', 'leader', ',', 'diplomat', ',', 'and', 'military', 'theorist', '.']\n",
            "['Ernesto', '``', 'Che', \"''\", 'Guevara', '(', 'Spanish', ':', '[', 'ˈtʃe', 'ɣeˈβaɾa', ']', ';', '[', '3', ']', '14', 'June', '1928', '[', '4', ']', '–', '9', 'October', '1967', ')', 'was', 'an', 'Argentine', 'Marxist', 'revolutionary', ',', 'physician', ',', 'author', ',', 'guerrilla', 'leader', ',', 'diplomat', ',', 'and', 'military', 'theorist', '.', 'A', 'major', 'figure', 'of', 'the', 'Cuban', 'Revolution', ',', 'his', 'stylized', 'visage', 'has', 'become', 'a', 'ubiquitous', 'countercultural', 'symbol', 'of', 'rebellion', 'and', 'global', 'insignia', 'in', 'popular', 'culture', '.']\n",
            "['Ernesto', '``', 'Che', \"''\", 'Guevara', '(', 'Spanish', ':', '[', 'ˈtʃe', 'ɣeˈβaɾa', ']', ';', '[', '3', ']', '14', 'June', '1928', '[', '4', ']', '–', '9', 'October', '1967', ')', 'was', 'an', 'Argentine', 'Marxist', 'revolutionary', ',', 'physician', ',', 'author', ',', 'guerrilla', 'leader', ',', 'diplomat', ',', 'and', 'military', 'theorist', '.', 'A', 'major', 'figure', 'of', 'the', 'Cuban', 'Revolution', ',', 'his', 'stylized', 'visage', 'has', 'become', 'a', 'ubiquitous', 'countercultural', 'symbol', 'of', 'rebellion', 'and', 'global', 'insignia', 'in', 'popular', 'culture', '.', '[', '5', ']', 'As', 'a', 'young', 'medical', 'student', ',', 'Guevara', 'traveled', 'throughout', 'South', 'America', 'and', 'was', 'radicalized', 'by', 'the', 'poverty', ',', 'hunger', ',', 'and', 'disease', 'he', 'witnessed', '.']\n",
            "['Ernesto', '``', 'Che', \"''\", 'Guevara', '(', 'Spanish', ':', '[', 'ˈtʃe', 'ɣeˈβaɾa', ']', ';', '[', '3', ']', '14', 'June', '1928', '[', '4', ']', '–', '9', 'October', '1967', ')', 'was', 'an', 'Argentine', 'Marxist', 'revolutionary', ',', 'physician', ',', 'author', ',', 'guerrilla', 'leader', ',', 'diplomat', ',', 'and', 'military', 'theorist', '.', 'A', 'major', 'figure', 'of', 'the', 'Cuban', 'Revolution', ',', 'his', 'stylized', 'visage', 'has', 'become', 'a', 'ubiquitous', 'countercultural', 'symbol', 'of', 'rebellion', 'and', 'global', 'insignia', 'in', 'popular', 'culture', '.', '[', '5', ']', 'As', 'a', 'young', 'medical', 'student', ',', 'Guevara', 'traveled', 'throughout', 'South', 'America', 'and', 'was', 'radicalized', 'by', 'the', 'poverty', ',', 'hunger', ',', 'and', 'disease', 'he', 'witnessed', '.', '[', '6', ']', '[', '7', ']', 'His', 'burgeoning', 'desire', 'to', 'help', 'overturn', 'what', 'he', 'saw', 'as', 'the', 'capitalist', 'exploitation', 'of', 'Latin', 'America', 'by', 'the', 'United', 'States', 'prompted', 'his', 'involvement', 'in', 'Guatemala', \"'s\", 'social', 'reforms', 'under', 'President', 'Jacobo', 'Árbenz', ',', 'whose', 'eventual', 'CIA-assisted', 'overthrow', 'at', 'the', 'behest', 'of', 'the', 'United', 'Fruit', 'Company', 'solidified', 'Guevara', \"'s\", 'political', 'ideology', '.']\n",
            "['Ernesto', '``', 'Che', \"''\", 'Guevara', '(', 'Spanish', ':', '[', 'ˈtʃe', 'ɣeˈβaɾa', ']', ';', '[', '3', ']', '14', 'June', '1928', '[', '4', ']', '–', '9', 'October', '1967', ')', 'was', 'an', 'Argentine', 'Marxist', 'revolutionary', ',', 'physician', ',', 'author', ',', 'guerrilla', 'leader', ',', 'diplomat', ',', 'and', 'military', 'theorist', '.', 'A', 'major', 'figure', 'of', 'the', 'Cuban', 'Revolution', ',', 'his', 'stylized', 'visage', 'has', 'become', 'a', 'ubiquitous', 'countercultural', 'symbol', 'of', 'rebellion', 'and', 'global', 'insignia', 'in', 'popular', 'culture', '.', '[', '5', ']', 'As', 'a', 'young', 'medical', 'student', ',', 'Guevara', 'traveled', 'throughout', 'South', 'America', 'and', 'was', 'radicalized', 'by', 'the', 'poverty', ',', 'hunger', ',', 'and', 'disease', 'he', 'witnessed', '.', '[', '6', ']', '[', '7', ']', 'His', 'burgeoning', 'desire', 'to', 'help', 'overturn', 'what', 'he', 'saw', 'as', 'the', 'capitalist', 'exploitation', 'of', 'Latin', 'America', 'by', 'the', 'United', 'States', 'prompted', 'his', 'involvement', 'in', 'Guatemala', \"'s\", 'social', 'reforms', 'under', 'President', 'Jacobo', 'Árbenz', ',', 'whose', 'eventual', 'CIA-assisted', 'overthrow', 'at', 'the', 'behest', 'of', 'the', 'United', 'Fruit', 'Company', 'solidified', 'Guevara', \"'s\", 'political', 'ideology', '.', '[', '6', ']', 'Later', 'in', 'Mexico', 'City', ',', 'Guevara', 'met', 'Raúl', 'and', 'Fidel', 'Castro', ',', 'joined', 'their', '26th', 'of', 'July', 'Movement', ',', 'and', 'sailed', 'to', 'Cuba', 'aboard', 'the', 'yacht', 'Granma', 'with', 'the', 'intention', 'of', 'overthrowing', 'U.S.-backed', 'dictator', 'Fulgencio', 'Batista', '.']\n",
            "['Ernesto', '``', 'Che', \"''\", 'Guevara', '(', 'Spanish', ':', '[', 'ˈtʃe', 'ɣeˈβaɾa', ']', ';', '[', '3', ']', '14', 'June', '1928', '[', '4', ']', '–', '9', 'October', '1967', ')', 'was', 'an', 'Argentine', 'Marxist', 'revolutionary', ',', 'physician', ',', 'author', ',', 'guerrilla', 'leader', ',', 'diplomat', ',', 'and', 'military', 'theorist', '.', 'A', 'major', 'figure', 'of', 'the', 'Cuban', 'Revolution', ',', 'his', 'stylized', 'visage', 'has', 'become', 'a', 'ubiquitous', 'countercultural', 'symbol', 'of', 'rebellion', 'and', 'global', 'insignia', 'in', 'popular', 'culture', '.', '[', '5', ']', 'As', 'a', 'young', 'medical', 'student', ',', 'Guevara', 'traveled', 'throughout', 'South', 'America', 'and', 'was', 'radicalized', 'by', 'the', 'poverty', ',', 'hunger', ',', 'and', 'disease', 'he', 'witnessed', '.', '[', '6', ']', '[', '7', ']', 'His', 'burgeoning', 'desire', 'to', 'help', 'overturn', 'what', 'he', 'saw', 'as', 'the', 'capitalist', 'exploitation', 'of', 'Latin', 'America', 'by', 'the', 'United', 'States', 'prompted', 'his', 'involvement', 'in', 'Guatemala', \"'s\", 'social', 'reforms', 'under', 'President', 'Jacobo', 'Árbenz', ',', 'whose', 'eventual', 'CIA-assisted', 'overthrow', 'at', 'the', 'behest', 'of', 'the', 'United', 'Fruit', 'Company', 'solidified', 'Guevara', \"'s\", 'political', 'ideology', '.', '[', '6', ']', 'Later', 'in', 'Mexico', 'City', ',', 'Guevara', 'met', 'Raúl', 'and', 'Fidel', 'Castro', ',', 'joined', 'their', '26th', 'of', 'July', 'Movement', ',', 'and', 'sailed', 'to', 'Cuba', 'aboard', 'the', 'yacht', 'Granma', 'with', 'the', 'intention', 'of', 'overthrowing', 'U.S.-backed', 'dictator', 'Fulgencio', 'Batista', '.', '[', '8', ']', 'Guevara', 'soon', 'rose', 'to', 'prominence', 'among', 'the', 'insurgents', ',', 'was', 'promoted', 'to', 'second-in-command', ',', 'and', 'played', 'a', 'pivotal', 'role', 'in', 'the', 'two-year', 'guerrilla', 'campaign', 'that', 'deposed', 'the', 'Batista', 'regime', '.']\n",
            "['Ernesto', '``', 'Che', \"''\", 'Guevara', '(', 'Spanish', ':', '[', 'ˈtʃe', 'ɣeˈβaɾa', ']', ';', '[', '3', ']', '14', 'June', '1928', '[', '4', ']', '–', '9', 'October', '1967', ')', 'was', 'an', 'Argentine', 'Marxist', 'revolutionary', ',', 'physician', ',', 'author', ',', 'guerrilla', 'leader', ',', 'diplomat', ',', 'and', 'military', 'theorist', '.', 'A', 'major', 'figure', 'of', 'the', 'Cuban', 'Revolution', ',', 'his', 'stylized', 'visage', 'has', 'become', 'a', 'ubiquitous', 'countercultural', 'symbol', 'of', 'rebellion', 'and', 'global', 'insignia', 'in', 'popular', 'culture', '.', '[', '5', ']', 'As', 'a', 'young', 'medical', 'student', ',', 'Guevara', 'traveled', 'throughout', 'South', 'America', 'and', 'was', 'radicalized', 'by', 'the', 'poverty', ',', 'hunger', ',', 'and', 'disease', 'he', 'witnessed', '.', '[', '6', ']', '[', '7', ']', 'His', 'burgeoning', 'desire', 'to', 'help', 'overturn', 'what', 'he', 'saw', 'as', 'the', 'capitalist', 'exploitation', 'of', 'Latin', 'America', 'by', 'the', 'United', 'States', 'prompted', 'his', 'involvement', 'in', 'Guatemala', \"'s\", 'social', 'reforms', 'under', 'President', 'Jacobo', 'Árbenz', ',', 'whose', 'eventual', 'CIA-assisted', 'overthrow', 'at', 'the', 'behest', 'of', 'the', 'United', 'Fruit', 'Company', 'solidified', 'Guevara', \"'s\", 'political', 'ideology', '.', '[', '6', ']', 'Later', 'in', 'Mexico', 'City', ',', 'Guevara', 'met', 'Raúl', 'and', 'Fidel', 'Castro', ',', 'joined', 'their', '26th', 'of', 'July', 'Movement', ',', 'and', 'sailed', 'to', 'Cuba', 'aboard', 'the', 'yacht', 'Granma', 'with', 'the', 'intention', 'of', 'overthrowing', 'U.S.-backed', 'dictator', 'Fulgencio', 'Batista', '.', '[', '8', ']', 'Guevara', 'soon', 'rose', 'to', 'prominence', 'among', 'the', 'insurgents', ',', 'was', 'promoted', 'to', 'second-in-command', ',', 'and', 'played', 'a', 'pivotal', 'role', 'in', 'the', 'two-year', 'guerrilla', 'campaign', 'that', 'deposed', 'the', 'Batista', 'regime', '.', '[', '9', ']']\n",
            "['Ernesto', '``', 'Che', \"''\", 'Guevara', '(', 'Spanish', ':', '[', 'ˈtʃe', 'ɣeˈβaɾa', ']', ';', '[', '3', ']', '14', 'June', '1928', '[', '4', ']', '–', '9', 'October', '1967', ')', 'was', 'an', 'Argentine', 'Marxist', 'revolutionary', ',', 'physician', ',', 'author', ',', 'guerrilla', 'leader', ',', 'diplomat', ',', 'and', 'military', 'theorist', '.', 'A', 'major', 'figure', 'of', 'the', 'Cuban', 'Revolution', ',', 'his', 'stylized', 'visage', 'has', 'become', 'a', 'ubiquitous', 'countercultural', 'symbol', 'of', 'rebellion', 'and', 'global', 'insignia', 'in', 'popular', 'culture', '.', '[', '5', ']', 'As', 'a', 'young', 'medical', 'student', ',', 'Guevara', 'traveled', 'throughout', 'South', 'America', 'and', 'was', 'radicalized', 'by', 'the', 'poverty', ',', 'hunger', ',', 'and', 'disease', 'he', 'witnessed', '.', '[', '6', ']', '[', '7', ']', 'His', 'burgeoning', 'desire', 'to', 'help', 'overturn', 'what', 'he', 'saw', 'as', 'the', 'capitalist', 'exploitation', 'of', 'Latin', 'America', 'by', 'the', 'United', 'States', 'prompted', 'his', 'involvement', 'in', 'Guatemala', \"'s\", 'social', 'reforms', 'under', 'President', 'Jacobo', 'Árbenz', ',', 'whose', 'eventual', 'CIA-assisted', 'overthrow', 'at', 'the', 'behest', 'of', 'the', 'United', 'Fruit', 'Company', 'solidified', 'Guevara', \"'s\", 'political', 'ideology', '.', '[', '6', ']', 'Later', 'in', 'Mexico', 'City', ',', 'Guevara', 'met', 'Raúl', 'and', 'Fidel', 'Castro', ',', 'joined', 'their', '26th', 'of', 'July', 'Movement', ',', 'and', 'sailed', 'to', 'Cuba', 'aboard', 'the', 'yacht', 'Granma', 'with', 'the', 'intention', 'of', 'overthrowing', 'U.S.-backed', 'dictator', 'Fulgencio', 'Batista', '.', '[', '8', ']', 'Guevara', 'soon', 'rose', 'to', 'prominence', 'among', 'the', 'insurgents', ',', 'was', 'promoted', 'to', 'second-in-command', ',', 'and', 'played', 'a', 'pivotal', 'role', 'in', 'the', 'two-year', 'guerrilla', 'campaign', 'that', 'deposed', 'the', 'Batista', 'regime', '.', '[', '9', ']', 'Ernesto', '``', 'Che', \"''\", 'Guevara', '(', 'Spanish', ':', '[', 'ˈtʃe', 'ɣeˈβaɾa', ']', ';', '[', '3', ']', '14', 'June', '1928', '[', '4', ']', '–', '9', 'October', '1967', ')', 'was', 'an', 'Argentine', 'Marxist', 'revolutionary', ',', 'physician', ',', 'author', ',', 'guerrilla', 'leader', ',', 'diplomat', ',', 'and', 'military', 'theorist', '.']\n",
            "['Ernesto', '``', 'Che', \"''\", 'Guevara', '(', 'Spanish', ':', '[', 'ˈtʃe', 'ɣeˈβaɾa', ']', ';', '[', '3', ']', '14', 'June', '1928', '[', '4', ']', '–', '9', 'October', '1967', ')', 'was', 'an', 'Argentine', 'Marxist', 'revolutionary', ',', 'physician', ',', 'author', ',', 'guerrilla', 'leader', ',', 'diplomat', ',', 'and', 'military', 'theorist', '.', 'A', 'major', 'figure', 'of', 'the', 'Cuban', 'Revolution', ',', 'his', 'stylized', 'visage', 'has', 'become', 'a', 'ubiquitous', 'countercultural', 'symbol', 'of', 'rebellion', 'and', 'global', 'insignia', 'in', 'popular', 'culture', '.', '[', '5', ']', 'As', 'a', 'young', 'medical', 'student', ',', 'Guevara', 'traveled', 'throughout', 'South', 'America', 'and', 'was', 'radicalized', 'by', 'the', 'poverty', ',', 'hunger', ',', 'and', 'disease', 'he', 'witnessed', '.', '[', '6', ']', '[', '7', ']', 'His', 'burgeoning', 'desire', 'to', 'help', 'overturn', 'what', 'he', 'saw', 'as', 'the', 'capitalist', 'exploitation', 'of', 'Latin', 'America', 'by', 'the', 'United', 'States', 'prompted', 'his', 'involvement', 'in', 'Guatemala', \"'s\", 'social', 'reforms', 'under', 'President', 'Jacobo', 'Árbenz', ',', 'whose', 'eventual', 'CIA-assisted', 'overthrow', 'at', 'the', 'behest', 'of', 'the', 'United', 'Fruit', 'Company', 'solidified', 'Guevara', \"'s\", 'political', 'ideology', '.', '[', '6', ']', 'Later', 'in', 'Mexico', 'City', ',', 'Guevara', 'met', 'Raúl', 'and', 'Fidel', 'Castro', ',', 'joined', 'their', '26th', 'of', 'July', 'Movement', ',', 'and', 'sailed', 'to', 'Cuba', 'aboard', 'the', 'yacht', 'Granma', 'with', 'the', 'intention', 'of', 'overthrowing', 'U.S.-backed', 'dictator', 'Fulgencio', 'Batista', '.', '[', '8', ']', 'Guevara', 'soon', 'rose', 'to', 'prominence', 'among', 'the', 'insurgents', ',', 'was', 'promoted', 'to', 'second-in-command', ',', 'and', 'played', 'a', 'pivotal', 'role', 'in', 'the', 'two-year', 'guerrilla', 'campaign', 'that', 'deposed', 'the', 'Batista', 'regime', '.', '[', '9', ']', 'Ernesto', '``', 'Che', \"''\", 'Guevara', '(', 'Spanish', ':', '[', 'ˈtʃe', 'ɣeˈβaɾa', ']', ';', '[', '3', ']', '14', 'June', '1928', '[', '4', ']', '–', '9', 'October', '1967', ')', 'was', 'an', 'Argentine', 'Marxist', 'revolutionary', ',', 'physician', ',', 'author', ',', 'guerrilla', 'leader', ',', 'diplomat', ',', 'and', 'military', 'theorist', '.', 'A', 'major', 'figure', 'of', 'the', 'Cuban', 'Revolution', ',', 'his', 'stylized', 'visage', 'has', 'become', 'a', 'ubiquitous', 'countercultural', 'symbol', 'of', 'rebellion', 'and', 'global', 'insignia', 'in', 'popular', 'culture', '.']\n",
            "['Ernesto', '``', 'Che', \"''\", 'Guevara', '(', 'Spanish', ':', '[', 'ˈtʃe', 'ɣeˈβaɾa', ']', ';', '[', '3', ']', '14', 'June', '1928', '[', '4', ']', '–', '9', 'October', '1967', ')', 'was', 'an', 'Argentine', 'Marxist', 'revolutionary', ',', 'physician', ',', 'author', ',', 'guerrilla', 'leader', ',', 'diplomat', ',', 'and', 'military', 'theorist', '.', 'A', 'major', 'figure', 'of', 'the', 'Cuban', 'Revolution', ',', 'his', 'stylized', 'visage', 'has', 'become', 'a', 'ubiquitous', 'countercultural', 'symbol', 'of', 'rebellion', 'and', 'global', 'insignia', 'in', 'popular', 'culture', '.', '[', '5', ']', 'As', 'a', 'young', 'medical', 'student', ',', 'Guevara', 'traveled', 'throughout', 'South', 'America', 'and', 'was', 'radicalized', 'by', 'the', 'poverty', ',', 'hunger', ',', 'and', 'disease', 'he', 'witnessed', '.', '[', '6', ']', '[', '7', ']', 'His', 'burgeoning', 'desire', 'to', 'help', 'overturn', 'what', 'he', 'saw', 'as', 'the', 'capitalist', 'exploitation', 'of', 'Latin', 'America', 'by', 'the', 'United', 'States', 'prompted', 'his', 'involvement', 'in', 'Guatemala', \"'s\", 'social', 'reforms', 'under', 'President', 'Jacobo', 'Árbenz', ',', 'whose', 'eventual', 'CIA-assisted', 'overthrow', 'at', 'the', 'behest', 'of', 'the', 'United', 'Fruit', 'Company', 'solidified', 'Guevara', \"'s\", 'political', 'ideology', '.', '[', '6', ']', 'Later', 'in', 'Mexico', 'City', ',', 'Guevara', 'met', 'Raúl', 'and', 'Fidel', 'Castro', ',', 'joined', 'their', '26th', 'of', 'July', 'Movement', ',', 'and', 'sailed', 'to', 'Cuba', 'aboard', 'the', 'yacht', 'Granma', 'with', 'the', 'intention', 'of', 'overthrowing', 'U.S.-backed', 'dictator', 'Fulgencio', 'Batista', '.', '[', '8', ']', 'Guevara', 'soon', 'rose', 'to', 'prominence', 'among', 'the', 'insurgents', ',', 'was', 'promoted', 'to', 'second-in-command', ',', 'and', 'played', 'a', 'pivotal', 'role', 'in', 'the', 'two-year', 'guerrilla', 'campaign', 'that', 'deposed', 'the', 'Batista', 'regime', '.', '[', '9', ']', 'Ernesto', '``', 'Che', \"''\", 'Guevara', '(', 'Spanish', ':', '[', 'ˈtʃe', 'ɣeˈβaɾa', ']', ';', '[', '3', ']', '14', 'June', '1928', '[', '4', ']', '–', '9', 'October', '1967', ')', 'was', 'an', 'Argentine', 'Marxist', 'revolutionary', ',', 'physician', ',', 'author', ',', 'guerrilla', 'leader', ',', 'diplomat', ',', 'and', 'military', 'theorist', '.', 'A', 'major', 'figure', 'of', 'the', 'Cuban', 'Revolution', ',', 'his', 'stylized', 'visage', 'has', 'become', 'a', 'ubiquitous', 'countercultural', 'symbol', 'of', 'rebellion', 'and', 'global', 'insignia', 'in', 'popular', 'culture', '.', '[', '5', ']', 'As', 'a', 'young', 'medical', 'student', ',', 'Guevara', 'traveled', 'throughout', 'South', 'America', 'and', 'was', 'radicalized', 'by', 'the', 'poverty', ',', 'hunger', ',', 'and', 'disease', 'he', 'witnessed', '.']\n",
            "['Ernesto', '``', 'Che', \"''\", 'Guevara', '(', 'Spanish', ':', '[', 'ˈtʃe', 'ɣeˈβaɾa', ']', ';', '[', '3', ']', '14', 'June', '1928', '[', '4', ']', '–', '9', 'October', '1967', ')', 'was', 'an', 'Argentine', 'Marxist', 'revolutionary', ',', 'physician', ',', 'author', ',', 'guerrilla', 'leader', ',', 'diplomat', ',', 'and', 'military', 'theorist', '.', 'A', 'major', 'figure', 'of', 'the', 'Cuban', 'Revolution', ',', 'his', 'stylized', 'visage', 'has', 'become', 'a', 'ubiquitous', 'countercultural', 'symbol', 'of', 'rebellion', 'and', 'global', 'insignia', 'in', 'popular', 'culture', '.', '[', '5', ']', 'As', 'a', 'young', 'medical', 'student', ',', 'Guevara', 'traveled', 'throughout', 'South', 'America', 'and', 'was', 'radicalized', 'by', 'the', 'poverty', ',', 'hunger', ',', 'and', 'disease', 'he', 'witnessed', '.', '[', '6', ']', '[', '7', ']', 'His', 'burgeoning', 'desire', 'to', 'help', 'overturn', 'what', 'he', 'saw', 'as', 'the', 'capitalist', 'exploitation', 'of', 'Latin', 'America', 'by', 'the', 'United', 'States', 'prompted', 'his', 'involvement', 'in', 'Guatemala', \"'s\", 'social', 'reforms', 'under', 'President', 'Jacobo', 'Árbenz', ',', 'whose', 'eventual', 'CIA-assisted', 'overthrow', 'at', 'the', 'behest', 'of', 'the', 'United', 'Fruit', 'Company', 'solidified', 'Guevara', \"'s\", 'political', 'ideology', '.', '[', '6', ']', 'Later', 'in', 'Mexico', 'City', ',', 'Guevara', 'met', 'Raúl', 'and', 'Fidel', 'Castro', ',', 'joined', 'their', '26th', 'of', 'July', 'Movement', ',', 'and', 'sailed', 'to', 'Cuba', 'aboard', 'the', 'yacht', 'Granma', 'with', 'the', 'intention', 'of', 'overthrowing', 'U.S.-backed', 'dictator', 'Fulgencio', 'Batista', '.', '[', '8', ']', 'Guevara', 'soon', 'rose', 'to', 'prominence', 'among', 'the', 'insurgents', ',', 'was', 'promoted', 'to', 'second-in-command', ',', 'and', 'played', 'a', 'pivotal', 'role', 'in', 'the', 'two-year', 'guerrilla', 'campaign', 'that', 'deposed', 'the', 'Batista', 'regime', '.', '[', '9', ']', 'Ernesto', '``', 'Che', \"''\", 'Guevara', '(', 'Spanish', ':', '[', 'ˈtʃe', 'ɣeˈβaɾa', ']', ';', '[', '3', ']', '14', 'June', '1928', '[', '4', ']', '–', '9', 'October', '1967', ')', 'was', 'an', 'Argentine', 'Marxist', 'revolutionary', ',', 'physician', ',', 'author', ',', 'guerrilla', 'leader', ',', 'diplomat', ',', 'and', 'military', 'theorist', '.', 'A', 'major', 'figure', 'of', 'the', 'Cuban', 'Revolution', ',', 'his', 'stylized', 'visage', 'has', 'become', 'a', 'ubiquitous', 'countercultural', 'symbol', 'of', 'rebellion', 'and', 'global', 'insignia', 'in', 'popular', 'culture', '.', '[', '5', ']', 'As', 'a', 'young', 'medical', 'student', ',', 'Guevara', 'traveled', 'throughout', 'South', 'America', 'and', 'was', 'radicalized', 'by', 'the', 'poverty', ',', 'hunger', ',', 'and', 'disease', 'he', 'witnessed', '.', '[', '6', ']', '[', '7', ']', 'His', 'burgeoning', 'desire', 'to', 'help', 'overturn', 'what', 'he', 'saw', 'as', 'the', 'capitalist', 'exploitation', 'of', 'Latin', 'America', 'by', 'the', 'United', 'States', 'prompted', 'his', 'involvement', 'in', 'Guatemala', \"'s\", 'social', 'reforms', 'under', 'President', 'Jacobo', 'Árbenz', ',', 'whose', 'eventual', 'CIA-assisted', 'overthrow', 'at', 'the', 'behest', 'of', 'the', 'United', 'Fruit', 'Company', 'solidified', 'Guevara', \"'s\", 'political', 'ideology', '.']\n",
            "['Ernesto', '``', 'Che', \"''\", 'Guevara', '(', 'Spanish', ':', '[', 'ˈtʃe', 'ɣeˈβaɾa', ']', ';', '[', '3', ']', '14', 'June', '1928', '[', '4', ']', '–', '9', 'October', '1967', ')', 'was', 'an', 'Argentine', 'Marxist', 'revolutionary', ',', 'physician', ',', 'author', ',', 'guerrilla', 'leader', ',', 'diplomat', ',', 'and', 'military', 'theorist', '.', 'A', 'major', 'figure', 'of', 'the', 'Cuban', 'Revolution', ',', 'his', 'stylized', 'visage', 'has', 'become', 'a', 'ubiquitous', 'countercultural', 'symbol', 'of', 'rebellion', 'and', 'global', 'insignia', 'in', 'popular', 'culture', '.', '[', '5', ']', 'As', 'a', 'young', 'medical', 'student', ',', 'Guevara', 'traveled', 'throughout', 'South', 'America', 'and', 'was', 'radicalized', 'by', 'the', 'poverty', ',', 'hunger', ',', 'and', 'disease', 'he', 'witnessed', '.', '[', '6', ']', '[', '7', ']', 'His', 'burgeoning', 'desire', 'to', 'help', 'overturn', 'what', 'he', 'saw', 'as', 'the', 'capitalist', 'exploitation', 'of', 'Latin', 'America', 'by', 'the', 'United', 'States', 'prompted', 'his', 'involvement', 'in', 'Guatemala', \"'s\", 'social', 'reforms', 'under', 'President', 'Jacobo', 'Árbenz', ',', 'whose', 'eventual', 'CIA-assisted', 'overthrow', 'at', 'the', 'behest', 'of', 'the', 'United', 'Fruit', 'Company', 'solidified', 'Guevara', \"'s\", 'political', 'ideology', '.', '[', '6', ']', 'Later', 'in', 'Mexico', 'City', ',', 'Guevara', 'met', 'Raúl', 'and', 'Fidel', 'Castro', ',', 'joined', 'their', '26th', 'of', 'July', 'Movement', ',', 'and', 'sailed', 'to', 'Cuba', 'aboard', 'the', 'yacht', 'Granma', 'with', 'the', 'intention', 'of', 'overthrowing', 'U.S.-backed', 'dictator', 'Fulgencio', 'Batista', '.', '[', '8', ']', 'Guevara', 'soon', 'rose', 'to', 'prominence', 'among', 'the', 'insurgents', ',', 'was', 'promoted', 'to', 'second-in-command', ',', 'and', 'played', 'a', 'pivotal', 'role', 'in', 'the', 'two-year', 'guerrilla', 'campaign', 'that', 'deposed', 'the', 'Batista', 'regime', '.', '[', '9', ']', 'Ernesto', '``', 'Che', \"''\", 'Guevara', '(', 'Spanish', ':', '[', 'ˈtʃe', 'ɣeˈβaɾa', ']', ';', '[', '3', ']', '14', 'June', '1928', '[', '4', ']', '–', '9', 'October', '1967', ')', 'was', 'an', 'Argentine', 'Marxist', 'revolutionary', ',', 'physician', ',', 'author', ',', 'guerrilla', 'leader', ',', 'diplomat', ',', 'and', 'military', 'theorist', '.', 'A', 'major', 'figure', 'of', 'the', 'Cuban', 'Revolution', ',', 'his', 'stylized', 'visage', 'has', 'become', 'a', 'ubiquitous', 'countercultural', 'symbol', 'of', 'rebellion', 'and', 'global', 'insignia', 'in', 'popular', 'culture', '.', '[', '5', ']', 'As', 'a', 'young', 'medical', 'student', ',', 'Guevara', 'traveled', 'throughout', 'South', 'America', 'and', 'was', 'radicalized', 'by', 'the', 'poverty', ',', 'hunger', ',', 'and', 'disease', 'he', 'witnessed', '.', '[', '6', ']', '[', '7', ']', 'His', 'burgeoning', 'desire', 'to', 'help', 'overturn', 'what', 'he', 'saw', 'as', 'the', 'capitalist', 'exploitation', 'of', 'Latin', 'America', 'by', 'the', 'United', 'States', 'prompted', 'his', 'involvement', 'in', 'Guatemala', \"'s\", 'social', 'reforms', 'under', 'President', 'Jacobo', 'Árbenz', ',', 'whose', 'eventual', 'CIA-assisted', 'overthrow', 'at', 'the', 'behest', 'of', 'the', 'United', 'Fruit', 'Company', 'solidified', 'Guevara', \"'s\", 'political', 'ideology', '.', '[', '6', ']', 'Later', 'in', 'Mexico', 'City', ',', 'Guevara', 'met', 'Raúl', 'and', 'Fidel', 'Castro', ',', 'joined', 'their', '26th', 'of', 'July', 'Movement', ',', 'and', 'sailed', 'to', 'Cuba', 'aboard', 'the', 'yacht', 'Granma', 'with', 'the', 'intention', 'of', 'overthrowing', 'U.S.-backed', 'dictator', 'Fulgencio', 'Batista', '.']\n",
            "['Ernesto', '``', 'Che', \"''\", 'Guevara', '(', 'Spanish', ':', '[', 'ˈtʃe', 'ɣeˈβaɾa', ']', ';', '[', '3', ']', '14', 'June', '1928', '[', '4', ']', '–', '9', 'October', '1967', ')', 'was', 'an', 'Argentine', 'Marxist', 'revolutionary', ',', 'physician', ',', 'author', ',', 'guerrilla', 'leader', ',', 'diplomat', ',', 'and', 'military', 'theorist', '.', 'A', 'major', 'figure', 'of', 'the', 'Cuban', 'Revolution', ',', 'his', 'stylized', 'visage', 'has', 'become', 'a', 'ubiquitous', 'countercultural', 'symbol', 'of', 'rebellion', 'and', 'global', 'insignia', 'in', 'popular', 'culture', '.', '[', '5', ']', 'As', 'a', 'young', 'medical', 'student', ',', 'Guevara', 'traveled', 'throughout', 'South', 'America', 'and', 'was', 'radicalized', 'by', 'the', 'poverty', ',', 'hunger', ',', 'and', 'disease', 'he', 'witnessed', '.', '[', '6', ']', '[', '7', ']', 'His', 'burgeoning', 'desire', 'to', 'help', 'overturn', 'what', 'he', 'saw', 'as', 'the', 'capitalist', 'exploitation', 'of', 'Latin', 'America', 'by', 'the', 'United', 'States', 'prompted', 'his', 'involvement', 'in', 'Guatemala', \"'s\", 'social', 'reforms', 'under', 'President', 'Jacobo', 'Árbenz', ',', 'whose', 'eventual', 'CIA-assisted', 'overthrow', 'at', 'the', 'behest', 'of', 'the', 'United', 'Fruit', 'Company', 'solidified', 'Guevara', \"'s\", 'political', 'ideology', '.', '[', '6', ']', 'Later', 'in', 'Mexico', 'City', ',', 'Guevara', 'met', 'Raúl', 'and', 'Fidel', 'Castro', ',', 'joined', 'their', '26th', 'of', 'July', 'Movement', ',', 'and', 'sailed', 'to', 'Cuba', 'aboard', 'the', 'yacht', 'Granma', 'with', 'the', 'intention', 'of', 'overthrowing', 'U.S.-backed', 'dictator', 'Fulgencio', 'Batista', '.', '[', '8', ']', 'Guevara', 'soon', 'rose', 'to', 'prominence', 'among', 'the', 'insurgents', ',', 'was', 'promoted', 'to', 'second-in-command', ',', 'and', 'played', 'a', 'pivotal', 'role', 'in', 'the', 'two-year', 'guerrilla', 'campaign', 'that', 'deposed', 'the', 'Batista', 'regime', '.', '[', '9', ']', 'Ernesto', '``', 'Che', \"''\", 'Guevara', '(', 'Spanish', ':', '[', 'ˈtʃe', 'ɣeˈβaɾa', ']', ';', '[', '3', ']', '14', 'June', '1928', '[', '4', ']', '–', '9', 'October', '1967', ')', 'was', 'an', 'Argentine', 'Marxist', 'revolutionary', ',', 'physician', ',', 'author', ',', 'guerrilla', 'leader', ',', 'diplomat', ',', 'and', 'military', 'theorist', '.', 'A', 'major', 'figure', 'of', 'the', 'Cuban', 'Revolution', ',', 'his', 'stylized', 'visage', 'has', 'become', 'a', 'ubiquitous', 'countercultural', 'symbol', 'of', 'rebellion', 'and', 'global', 'insignia', 'in', 'popular', 'culture', '.', '[', '5', ']', 'As', 'a', 'young', 'medical', 'student', ',', 'Guevara', 'traveled', 'throughout', 'South', 'America', 'and', 'was', 'radicalized', 'by', 'the', 'poverty', ',', 'hunger', ',', 'and', 'disease', 'he', 'witnessed', '.', '[', '6', ']', '[', '7', ']', 'His', 'burgeoning', 'desire', 'to', 'help', 'overturn', 'what', 'he', 'saw', 'as', 'the', 'capitalist', 'exploitation', 'of', 'Latin', 'America', 'by', 'the', 'United', 'States', 'prompted', 'his', 'involvement', 'in', 'Guatemala', \"'s\", 'social', 'reforms', 'under', 'President', 'Jacobo', 'Árbenz', ',', 'whose', 'eventual', 'CIA-assisted', 'overthrow', 'at', 'the', 'behest', 'of', 'the', 'United', 'Fruit', 'Company', 'solidified', 'Guevara', \"'s\", 'political', 'ideology', '.', '[', '6', ']', 'Later', 'in', 'Mexico', 'City', ',', 'Guevara', 'met', 'Raúl', 'and', 'Fidel', 'Castro', ',', 'joined', 'their', '26th', 'of', 'July', 'Movement', ',', 'and', 'sailed', 'to', 'Cuba', 'aboard', 'the', 'yacht', 'Granma', 'with', 'the', 'intention', 'of', 'overthrowing', 'U.S.-backed', 'dictator', 'Fulgencio', 'Batista', '.', '[', '8', ']', 'Guevara', 'soon', 'rose', 'to', 'prominence', 'among', 'the', 'insurgents', ',', 'was', 'promoted', 'to', 'second-in-command', ',', 'and', 'played', 'a', 'pivotal', 'role', 'in', 'the', 'two-year', 'guerrilla', 'campaign', 'that', 'deposed', 'the', 'Batista', 'regime', '.']\n",
            "['Ernesto', '``', 'Che', \"''\", 'Guevara', '(', 'Spanish', ':', '[', 'ˈtʃe', 'ɣeˈβaɾa', ']', ';', '[', '3', ']', '14', 'June', '1928', '[', '4', ']', '–', '9', 'October', '1967', ')', 'was', 'an', 'Argentine', 'Marxist', 'revolutionary', ',', 'physician', ',', 'author', ',', 'guerrilla', 'leader', ',', 'diplomat', ',', 'and', 'military', 'theorist', '.', 'A', 'major', 'figure', 'of', 'the', 'Cuban', 'Revolution', ',', 'his', 'stylized', 'visage', 'has', 'become', 'a', 'ubiquitous', 'countercultural', 'symbol', 'of', 'rebellion', 'and', 'global', 'insignia', 'in', 'popular', 'culture', '.', '[', '5', ']', 'As', 'a', 'young', 'medical', 'student', ',', 'Guevara', 'traveled', 'throughout', 'South', 'America', 'and', 'was', 'radicalized', 'by', 'the', 'poverty', ',', 'hunger', ',', 'and', 'disease', 'he', 'witnessed', '.', '[', '6', ']', '[', '7', ']', 'His', 'burgeoning', 'desire', 'to', 'help', 'overturn', 'what', 'he', 'saw', 'as', 'the', 'capitalist', 'exploitation', 'of', 'Latin', 'America', 'by', 'the', 'United', 'States', 'prompted', 'his', 'involvement', 'in', 'Guatemala', \"'s\", 'social', 'reforms', 'under', 'President', 'Jacobo', 'Árbenz', ',', 'whose', 'eventual', 'CIA-assisted', 'overthrow', 'at', 'the', 'behest', 'of', 'the', 'United', 'Fruit', 'Company', 'solidified', 'Guevara', \"'s\", 'political', 'ideology', '.', '[', '6', ']', 'Later', 'in', 'Mexico', 'City', ',', 'Guevara', 'met', 'Raúl', 'and', 'Fidel', 'Castro', ',', 'joined', 'their', '26th', 'of', 'July', 'Movement', ',', 'and', 'sailed', 'to', 'Cuba', 'aboard', 'the', 'yacht', 'Granma', 'with', 'the', 'intention', 'of', 'overthrowing', 'U.S.-backed', 'dictator', 'Fulgencio', 'Batista', '.', '[', '8', ']', 'Guevara', 'soon', 'rose', 'to', 'prominence', 'among', 'the', 'insurgents', ',', 'was', 'promoted', 'to', 'second-in-command', ',', 'and', 'played', 'a', 'pivotal', 'role', 'in', 'the', 'two-year', 'guerrilla', 'campaign', 'that', 'deposed', 'the', 'Batista', 'regime', '.', '[', '9', ']', 'Ernesto', '``', 'Che', \"''\", 'Guevara', '(', 'Spanish', ':', '[', 'ˈtʃe', 'ɣeˈβaɾa', ']', ';', '[', '3', ']', '14', 'June', '1928', '[', '4', ']', '–', '9', 'October', '1967', ')', 'was', 'an', 'Argentine', 'Marxist', 'revolutionary', ',', 'physician', ',', 'author', ',', 'guerrilla', 'leader', ',', 'diplomat', ',', 'and', 'military', 'theorist', '.', 'A', 'major', 'figure', 'of', 'the', 'Cuban', 'Revolution', ',', 'his', 'stylized', 'visage', 'has', 'become', 'a', 'ubiquitous', 'countercultural', 'symbol', 'of', 'rebellion', 'and', 'global', 'insignia', 'in', 'popular', 'culture', '.', '[', '5', ']', 'As', 'a', 'young', 'medical', 'student', ',', 'Guevara', 'traveled', 'throughout', 'South', 'America', 'and', 'was', 'radicalized', 'by', 'the', 'poverty', ',', 'hunger', ',', 'and', 'disease', 'he', 'witnessed', '.', '[', '6', ']', '[', '7', ']', 'His', 'burgeoning', 'desire', 'to', 'help', 'overturn', 'what', 'he', 'saw', 'as', 'the', 'capitalist', 'exploitation', 'of', 'Latin', 'America', 'by', 'the', 'United', 'States', 'prompted', 'his', 'involvement', 'in', 'Guatemala', \"'s\", 'social', 'reforms', 'under', 'President', 'Jacobo', 'Árbenz', ',', 'whose', 'eventual', 'CIA-assisted', 'overthrow', 'at', 'the', 'behest', 'of', 'the', 'United', 'Fruit', 'Company', 'solidified', 'Guevara', \"'s\", 'political', 'ideology', '.', '[', '6', ']', 'Later', 'in', 'Mexico', 'City', ',', 'Guevara', 'met', 'Raúl', 'and', 'Fidel', 'Castro', ',', 'joined', 'their', '26th', 'of', 'July', 'Movement', ',', 'and', 'sailed', 'to', 'Cuba', 'aboard', 'the', 'yacht', 'Granma', 'with', 'the', 'intention', 'of', 'overthrowing', 'U.S.-backed', 'dictator', 'Fulgencio', 'Batista', '.', '[', '8', ']', 'Guevara', 'soon', 'rose', 'to', 'prominence', 'among', 'the', 'insurgents', ',', 'was', 'promoted', 'to', 'second-in-command', ',', 'and', 'played', 'a', 'pivotal', 'role', 'in', 'the', 'two-year', 'guerrilla', 'campaign', 'that', 'deposed', 'the', 'Batista', 'regime', '.', '[', '9', ']']\n",
            "['Ernesto', '``', 'Che', \"''\", 'Guevara', '(', 'Spanish', ':', '[', 'ˈtʃe', 'ɣeˈβaɾa', ']', ';', '[', '3', ']', '14', 'June', '1928', '[', '4', ']', '–', '9', 'October', '1967', ')', 'was', 'an', 'Argentine', 'Marxist', 'revolutionary', ',', 'physician', ',', 'author', ',', 'guerrilla', 'leader', ',', 'diplomat', ',', 'and', 'military', 'theorist', '.', 'A', 'major', 'figure', 'of', 'the', 'Cuban', 'Revolution', ',', 'his', 'stylized', 'visage', 'has', 'become', 'a', 'ubiquitous', 'countercultural', 'symbol', 'of', 'rebellion', 'and', 'global', 'insignia', 'in', 'popular', 'culture', '.', '[', '5', ']', 'As', 'a', 'young', 'medical', 'student', ',', 'Guevara', 'traveled', 'throughout', 'South', 'America', 'and', 'was', 'radicalized', 'by', 'the', 'poverty', ',', 'hunger', ',', 'and', 'disease', 'he', 'witnessed', '.', '[', '6', ']', '[', '7', ']', 'His', 'burgeoning', 'desire', 'to', 'help', 'overturn', 'what', 'he', 'saw', 'as', 'the', 'capitalist', 'exploitation', 'of', 'Latin', 'America', 'by', 'the', 'United', 'States', 'prompted', 'his', 'involvement', 'in', 'Guatemala', \"'s\", 'social', 'reforms', 'under', 'President', 'Jacobo', 'Árbenz', ',', 'whose', 'eventual', 'CIA-assisted', 'overthrow', 'at', 'the', 'behest', 'of', 'the', 'United', 'Fruit', 'Company', 'solidified', 'Guevara', \"'s\", 'political', 'ideology', '.', '[', '6', ']', 'Later', 'in', 'Mexico', 'City', ',', 'Guevara', 'met', 'Raúl', 'and', 'Fidel', 'Castro', ',', 'joined', 'their', '26th', 'of', 'July', 'Movement', ',', 'and', 'sailed', 'to', 'Cuba', 'aboard', 'the', 'yacht', 'Granma', 'with', 'the', 'intention', 'of', 'overthrowing', 'U.S.-backed', 'dictator', 'Fulgencio', 'Batista', '.', '[', '8', ']', 'Guevara', 'soon', 'rose', 'to', 'prominence', 'among', 'the', 'insurgents', ',', 'was', 'promoted', 'to', 'second-in-command', ',', 'and', 'played', 'a', 'pivotal', 'role', 'in', 'the', 'two-year', 'guerrilla', 'campaign', 'that', 'deposed', 'the', 'Batista', 'regime', '.', '[', '9', ']', 'Ernesto', '``', 'Che', \"''\", 'Guevara', '(', 'Spanish', ':', '[', 'ˈtʃe', 'ɣeˈβaɾa', ']', ';', '[', '3', ']', '14', 'June', '1928', '[', '4', ']', '–', '9', 'October', '1967', ')', 'was', 'an', 'Argentine', 'Marxist', 'revolutionary', ',', 'physician', ',', 'author', ',', 'guerrilla', 'leader', ',', 'diplomat', ',', 'and', 'military', 'theorist', '.', 'A', 'major', 'figure', 'of', 'the', 'Cuban', 'Revolution', ',', 'his', 'stylized', 'visage', 'has', 'become', 'a', 'ubiquitous', 'countercultural', 'symbol', 'of', 'rebellion', 'and', 'global', 'insignia', 'in', 'popular', 'culture', '.', '[', '5', ']', 'As', 'a', 'young', 'medical', 'student', ',', 'Guevara', 'traveled', 'throughout', 'South', 'America', 'and', 'was', 'radicalized', 'by', 'the', 'poverty', ',', 'hunger', ',', 'and', 'disease', 'he', 'witnessed', '.', '[', '6', ']', '[', '7', ']', 'His', 'burgeoning', 'desire', 'to', 'help', 'overturn', 'what', 'he', 'saw', 'as', 'the', 'capitalist', 'exploitation', 'of', 'Latin', 'America', 'by', 'the', 'United', 'States', 'prompted', 'his', 'involvement', 'in', 'Guatemala', \"'s\", 'social', 'reforms', 'under', 'President', 'Jacobo', 'Árbenz', ',', 'whose', 'eventual', 'CIA-assisted', 'overthrow', 'at', 'the', 'behest', 'of', 'the', 'United', 'Fruit', 'Company', 'solidified', 'Guevara', \"'s\", 'political', 'ideology', '.', '[', '6', ']', 'Later', 'in', 'Mexico', 'City', ',', 'Guevara', 'met', 'Raúl', 'and', 'Fidel', 'Castro', ',', 'joined', 'their', '26th', 'of', 'July', 'Movement', ',', 'and', 'sailed', 'to', 'Cuba', 'aboard', 'the', 'yacht', 'Granma', 'with', 'the', 'intention', 'of', 'overthrowing', 'U.S.-backed', 'dictator', 'Fulgencio', 'Batista', '.', '[', '8', ']', 'Guevara', 'soon', 'rose', 'to', 'prominence', 'among', 'the', 'insurgents', ',', 'was', 'promoted', 'to', 'second-in-command', ',', 'and', 'played', 'a', 'pivotal', 'role', 'in', 'the', 'two-year', 'guerrilla', 'campaign', 'that', 'deposed', 'the', 'Batista', 'regime', '.', '[', '9', ']', 'Ernesto', '``', 'Che', \"''\", 'Guevara', '(', 'Spanish', ':', '[', 'ˈtʃe', 'ɣeˈβaɾa', ']', ';', '[', '3', ']', '14', 'June', '1928', '[', '4', ']', '–', '9', 'October', '1967', ')', 'was', 'an', 'Argentine', 'Marxist', 'revolutionary', ',', 'physician', ',', 'author', ',', 'guerrilla', 'leader', ',', 'diplomat', ',', 'and', 'military', 'theorist', '.']\n",
            "['Ernesto', '``', 'Che', \"''\", 'Guevara', '(', 'Spanish', ':', '[', 'ˈtʃe', 'ɣeˈβaɾa', ']', ';', '[', '3', ']', '14', 'June', '1928', '[', '4', ']', '–', '9', 'October', '1967', ')', 'was', 'an', 'Argentine', 'Marxist', 'revolutionary', ',', 'physician', ',', 'author', ',', 'guerrilla', 'leader', ',', 'diplomat', ',', 'and', 'military', 'theorist', '.', 'A', 'major', 'figure', 'of', 'the', 'Cuban', 'Revolution', ',', 'his', 'stylized', 'visage', 'has', 'become', 'a', 'ubiquitous', 'countercultural', 'symbol', 'of', 'rebellion', 'and', 'global', 'insignia', 'in', 'popular', 'culture', '.', '[', '5', ']', 'As', 'a', 'young', 'medical', 'student', ',', 'Guevara', 'traveled', 'throughout', 'South', 'America', 'and', 'was', 'radicalized', 'by', 'the', 'poverty', ',', 'hunger', ',', 'and', 'disease', 'he', 'witnessed', '.', '[', '6', ']', '[', '7', ']', 'His', 'burgeoning', 'desire', 'to', 'help', 'overturn', 'what', 'he', 'saw', 'as', 'the', 'capitalist', 'exploitation', 'of', 'Latin', 'America', 'by', 'the', 'United', 'States', 'prompted', 'his', 'involvement', 'in', 'Guatemala', \"'s\", 'social', 'reforms', 'under', 'President', 'Jacobo', 'Árbenz', ',', 'whose', 'eventual', 'CIA-assisted', 'overthrow', 'at', 'the', 'behest', 'of', 'the', 'United', 'Fruit', 'Company', 'solidified', 'Guevara', \"'s\", 'political', 'ideology', '.', '[', '6', ']', 'Later', 'in', 'Mexico', 'City', ',', 'Guevara', 'met', 'Raúl', 'and', 'Fidel', 'Castro', ',', 'joined', 'their', '26th', 'of', 'July', 'Movement', ',', 'and', 'sailed', 'to', 'Cuba', 'aboard', 'the', 'yacht', 'Granma', 'with', 'the', 'intention', 'of', 'overthrowing', 'U.S.-backed', 'dictator', 'Fulgencio', 'Batista', '.', '[', '8', ']', 'Guevara', 'soon', 'rose', 'to', 'prominence', 'among', 'the', 'insurgents', ',', 'was', 'promoted', 'to', 'second-in-command', ',', 'and', 'played', 'a', 'pivotal', 'role', 'in', 'the', 'two-year', 'guerrilla', 'campaign', 'that', 'deposed', 'the', 'Batista', 'regime', '.', '[', '9', ']', 'Ernesto', '``', 'Che', \"''\", 'Guevara', '(', 'Spanish', ':', '[', 'ˈtʃe', 'ɣeˈβaɾa', ']', ';', '[', '3', ']', '14', 'June', '1928', '[', '4', ']', '–', '9', 'October', '1967', ')', 'was', 'an', 'Argentine', 'Marxist', 'revolutionary', ',', 'physician', ',', 'author', ',', 'guerrilla', 'leader', ',', 'diplomat', ',', 'and', 'military', 'theorist', '.', 'A', 'major', 'figure', 'of', 'the', 'Cuban', 'Revolution', ',', 'his', 'stylized', 'visage', 'has', 'become', 'a', 'ubiquitous', 'countercultural', 'symbol', 'of', 'rebellion', 'and', 'global', 'insignia', 'in', 'popular', 'culture', '.', '[', '5', ']', 'As', 'a', 'young', 'medical', 'student', ',', 'Guevara', 'traveled', 'throughout', 'South', 'America', 'and', 'was', 'radicalized', 'by', 'the', 'poverty', ',', 'hunger', ',', 'and', 'disease', 'he', 'witnessed', '.', '[', '6', ']', '[', '7', ']', 'His', 'burgeoning', 'desire', 'to', 'help', 'overturn', 'what', 'he', 'saw', 'as', 'the', 'capitalist', 'exploitation', 'of', 'Latin', 'America', 'by', 'the', 'United', 'States', 'prompted', 'his', 'involvement', 'in', 'Guatemala', \"'s\", 'social', 'reforms', 'under', 'President', 'Jacobo', 'Árbenz', ',', 'whose', 'eventual', 'CIA-assisted', 'overthrow', 'at', 'the', 'behest', 'of', 'the', 'United', 'Fruit', 'Company', 'solidified', 'Guevara', \"'s\", 'political', 'ideology', '.', '[', '6', ']', 'Later', 'in', 'Mexico', 'City', ',', 'Guevara', 'met', 'Raúl', 'and', 'Fidel', 'Castro', ',', 'joined', 'their', '26th', 'of', 'July', 'Movement', ',', 'and', 'sailed', 'to', 'Cuba', 'aboard', 'the', 'yacht', 'Granma', 'with', 'the', 'intention', 'of', 'overthrowing', 'U.S.-backed', 'dictator', 'Fulgencio', 'Batista', '.', '[', '8', ']', 'Guevara', 'soon', 'rose', 'to', 'prominence', 'among', 'the', 'insurgents', ',', 'was', 'promoted', 'to', 'second-in-command', ',', 'and', 'played', 'a', 'pivotal', 'role', 'in', 'the', 'two-year', 'guerrilla', 'campaign', 'that', 'deposed', 'the', 'Batista', 'regime', '.', '[', '9', ']', 'Ernesto', '``', 'Che', \"''\", 'Guevara', '(', 'Spanish', ':', '[', 'ˈtʃe', 'ɣeˈβaɾa', ']', ';', '[', '3', ']', '14', 'June', '1928', '[', '4', ']', '–', '9', 'October', '1967', ')', 'was', 'an', 'Argentine', 'Marxist', 'revolutionary', ',', 'physician', ',', 'author', ',', 'guerrilla', 'leader', ',', 'diplomat', ',', 'and', 'military', 'theorist', '.', 'A', 'major', 'figure', 'of', 'the', 'Cuban', 'Revolution', ',', 'his', 'stylized', 'visage', 'has', 'become', 'a', 'ubiquitous', 'countercultural', 'symbol', 'of', 'rebellion', 'and', 'global', 'insignia', 'in', 'popular', 'culture', '.']\n",
            "['Ernesto', '``', 'Che', \"''\", 'Guevara', '(', 'Spanish', ':', '[', 'ˈtʃe', 'ɣeˈβaɾa', ']', ';', '[', '3', ']', '14', 'June', '1928', '[', '4', ']', '–', '9', 'October', '1967', ')', 'was', 'an', 'Argentine', 'Marxist', 'revolutionary', ',', 'physician', ',', 'author', ',', 'guerrilla', 'leader', ',', 'diplomat', ',', 'and', 'military', 'theorist', '.', 'A', 'major', 'figure', 'of', 'the', 'Cuban', 'Revolution', ',', 'his', 'stylized', 'visage', 'has', 'become', 'a', 'ubiquitous', 'countercultural', 'symbol', 'of', 'rebellion', 'and', 'global', 'insignia', 'in', 'popular', 'culture', '.', '[', '5', ']', 'As', 'a', 'young', 'medical', 'student', ',', 'Guevara', 'traveled', 'throughout', 'South', 'America', 'and', 'was', 'radicalized', 'by', 'the', 'poverty', ',', 'hunger', ',', 'and', 'disease', 'he', 'witnessed', '.', '[', '6', ']', '[', '7', ']', 'His', 'burgeoning', 'desire', 'to', 'help', 'overturn', 'what', 'he', 'saw', 'as', 'the', 'capitalist', 'exploitation', 'of', 'Latin', 'America', 'by', 'the', 'United', 'States', 'prompted', 'his', 'involvement', 'in', 'Guatemala', \"'s\", 'social', 'reforms', 'under', 'President', 'Jacobo', 'Árbenz', ',', 'whose', 'eventual', 'CIA-assisted', 'overthrow', 'at', 'the', 'behest', 'of', 'the', 'United', 'Fruit', 'Company', 'solidified', 'Guevara', \"'s\", 'political', 'ideology', '.', '[', '6', ']', 'Later', 'in', 'Mexico', 'City', ',', 'Guevara', 'met', 'Raúl', 'and', 'Fidel', 'Castro', ',', 'joined', 'their', '26th', 'of', 'July', 'Movement', ',', 'and', 'sailed', 'to', 'Cuba', 'aboard', 'the', 'yacht', 'Granma', 'with', 'the', 'intention', 'of', 'overthrowing', 'U.S.-backed', 'dictator', 'Fulgencio', 'Batista', '.', '[', '8', ']', 'Guevara', 'soon', 'rose', 'to', 'prominence', 'among', 'the', 'insurgents', ',', 'was', 'promoted', 'to', 'second-in-command', ',', 'and', 'played', 'a', 'pivotal', 'role', 'in', 'the', 'two-year', 'guerrilla', 'campaign', 'that', 'deposed', 'the', 'Batista', 'regime', '.', '[', '9', ']', 'Ernesto', '``', 'Che', \"''\", 'Guevara', '(', 'Spanish', ':', '[', 'ˈtʃe', 'ɣeˈβaɾa', ']', ';', '[', '3', ']', '14', 'June', '1928', '[', '4', ']', '–', '9', 'October', '1967', ')', 'was', 'an', 'Argentine', 'Marxist', 'revolutionary', ',', 'physician', ',', 'author', ',', 'guerrilla', 'leader', ',', 'diplomat', ',', 'and', 'military', 'theorist', '.', 'A', 'major', 'figure', 'of', 'the', 'Cuban', 'Revolution', ',', 'his', 'stylized', 'visage', 'has', 'become', 'a', 'ubiquitous', 'countercultural', 'symbol', 'of', 'rebellion', 'and', 'global', 'insignia', 'in', 'popular', 'culture', '.', '[', '5', ']', 'As', 'a', 'young', 'medical', 'student', ',', 'Guevara', 'traveled', 'throughout', 'South', 'America', 'and', 'was', 'radicalized', 'by', 'the', 'poverty', ',', 'hunger', ',', 'and', 'disease', 'he', 'witnessed', '.', '[', '6', ']', '[', '7', ']', 'His', 'burgeoning', 'desire', 'to', 'help', 'overturn', 'what', 'he', 'saw', 'as', 'the', 'capitalist', 'exploitation', 'of', 'Latin', 'America', 'by', 'the', 'United', 'States', 'prompted', 'his', 'involvement', 'in', 'Guatemala', \"'s\", 'social', 'reforms', 'under', 'President', 'Jacobo', 'Árbenz', ',', 'whose', 'eventual', 'CIA-assisted', 'overthrow', 'at', 'the', 'behest', 'of', 'the', 'United', 'Fruit', 'Company', 'solidified', 'Guevara', \"'s\", 'political', 'ideology', '.', '[', '6', ']', 'Later', 'in', 'Mexico', 'City', ',', 'Guevara', 'met', 'Raúl', 'and', 'Fidel', 'Castro', ',', 'joined', 'their', '26th', 'of', 'July', 'Movement', ',', 'and', 'sailed', 'to', 'Cuba', 'aboard', 'the', 'yacht', 'Granma', 'with', 'the', 'intention', 'of', 'overthrowing', 'U.S.-backed', 'dictator', 'Fulgencio', 'Batista', '.', '[', '8', ']', 'Guevara', 'soon', 'rose', 'to', 'prominence', 'among', 'the', 'insurgents', ',', 'was', 'promoted', 'to', 'second-in-command', ',', 'and', 'played', 'a', 'pivotal', 'role', 'in', 'the', 'two-year', 'guerrilla', 'campaign', 'that', 'deposed', 'the', 'Batista', 'regime', '.', '[', '9', ']', 'Ernesto', '``', 'Che', \"''\", 'Guevara', '(', 'Spanish', ':', '[', 'ˈtʃe', 'ɣeˈβaɾa', ']', ';', '[', '3', ']', '14', 'June', '1928', '[', '4', ']', '–', '9', 'October', '1967', ')', 'was', 'an', 'Argentine', 'Marxist', 'revolutionary', ',', 'physician', ',', 'author', ',', 'guerrilla', 'leader', ',', 'diplomat', ',', 'and', 'military', 'theorist', '.', 'A', 'major', 'figure', 'of', 'the', 'Cuban', 'Revolution', ',', 'his', 'stylized', 'visage', 'has', 'become', 'a', 'ubiquitous', 'countercultural', 'symbol', 'of', 'rebellion', 'and', 'global', 'insignia', 'in', 'popular', 'culture', '.', '[', '5', ']', 'As', 'a', 'young', 'medical', 'student', ',', 'Guevara', 'traveled', 'throughout', 'South', 'America', 'and', 'was', 'radicalized', 'by', 'the', 'poverty', ',', 'hunger', ',', 'and', 'disease', 'he', 'witnessed', '.']\n",
            "['Ernesto', '``', 'Che', \"''\", 'Guevara', '(', 'Spanish', ':', '[', 'ˈtʃe', 'ɣeˈβaɾa', ']', ';', '[', '3', ']', '14', 'June', '1928', '[', '4', ']', '–', '9', 'October', '1967', ')', 'was', 'an', 'Argentine', 'Marxist', 'revolutionary', ',', 'physician', ',', 'author', ',', 'guerrilla', 'leader', ',', 'diplomat', ',', 'and', 'military', 'theorist', '.', 'A', 'major', 'figure', 'of', 'the', 'Cuban', 'Revolution', ',', 'his', 'stylized', 'visage', 'has', 'become', 'a', 'ubiquitous', 'countercultural', 'symbol', 'of', 'rebellion', 'and', 'global', 'insignia', 'in', 'popular', 'culture', '.', '[', '5', ']', 'As', 'a', 'young', 'medical', 'student', ',', 'Guevara', 'traveled', 'throughout', 'South', 'America', 'and', 'was', 'radicalized', 'by', 'the', 'poverty', ',', 'hunger', ',', 'and', 'disease', 'he', 'witnessed', '.', '[', '6', ']', '[', '7', ']', 'His', 'burgeoning', 'desire', 'to', 'help', 'overturn', 'what', 'he', 'saw', 'as', 'the', 'capitalist', 'exploitation', 'of', 'Latin', 'America', 'by', 'the', 'United', 'States', 'prompted', 'his', 'involvement', 'in', 'Guatemala', \"'s\", 'social', 'reforms', 'under', 'President', 'Jacobo', 'Árbenz', ',', 'whose', 'eventual', 'CIA-assisted', 'overthrow', 'at', 'the', 'behest', 'of', 'the', 'United', 'Fruit', 'Company', 'solidified', 'Guevara', \"'s\", 'political', 'ideology', '.', '[', '6', ']', 'Later', 'in', 'Mexico', 'City', ',', 'Guevara', 'met', 'Raúl', 'and', 'Fidel', 'Castro', ',', 'joined', 'their', '26th', 'of', 'July', 'Movement', ',', 'and', 'sailed', 'to', 'Cuba', 'aboard', 'the', 'yacht', 'Granma', 'with', 'the', 'intention', 'of', 'overthrowing', 'U.S.-backed', 'dictator', 'Fulgencio', 'Batista', '.', '[', '8', ']', 'Guevara', 'soon', 'rose', 'to', 'prominence', 'among', 'the', 'insurgents', ',', 'was', 'promoted', 'to', 'second-in-command', ',', 'and', 'played', 'a', 'pivotal', 'role', 'in', 'the', 'two-year', 'guerrilla', 'campaign', 'that', 'deposed', 'the', 'Batista', 'regime', '.', '[', '9', ']', 'Ernesto', '``', 'Che', \"''\", 'Guevara', '(', 'Spanish', ':', '[', 'ˈtʃe', 'ɣeˈβaɾa', ']', ';', '[', '3', ']', '14', 'June', '1928', '[', '4', ']', '–', '9', 'October', '1967', ')', 'was', 'an', 'Argentine', 'Marxist', 'revolutionary', ',', 'physician', ',', 'author', ',', 'guerrilla', 'leader', ',', 'diplomat', ',', 'and', 'military', 'theorist', '.', 'A', 'major', 'figure', 'of', 'the', 'Cuban', 'Revolution', ',', 'his', 'stylized', 'visage', 'has', 'become', 'a', 'ubiquitous', 'countercultural', 'symbol', 'of', 'rebellion', 'and', 'global', 'insignia', 'in', 'popular', 'culture', '.', '[', '5', ']', 'As', 'a', 'young', 'medical', 'student', ',', 'Guevara', 'traveled', 'throughout', 'South', 'America', 'and', 'was', 'radicalized', 'by', 'the', 'poverty', ',', 'hunger', ',', 'and', 'disease', 'he', 'witnessed', '.', '[', '6', ']', '[', '7', ']', 'His', 'burgeoning', 'desire', 'to', 'help', 'overturn', 'what', 'he', 'saw', 'as', 'the', 'capitalist', 'exploitation', 'of', 'Latin', 'America', 'by', 'the', 'United', 'States', 'prompted', 'his', 'involvement', 'in', 'Guatemala', \"'s\", 'social', 'reforms', 'under', 'President', 'Jacobo', 'Árbenz', ',', 'whose', 'eventual', 'CIA-assisted', 'overthrow', 'at', 'the', 'behest', 'of', 'the', 'United', 'Fruit', 'Company', 'solidified', 'Guevara', \"'s\", 'political', 'ideology', '.', '[', '6', ']', 'Later', 'in', 'Mexico', 'City', ',', 'Guevara', 'met', 'Raúl', 'and', 'Fidel', 'Castro', ',', 'joined', 'their', '26th', 'of', 'July', 'Movement', ',', 'and', 'sailed', 'to', 'Cuba', 'aboard', 'the', 'yacht', 'Granma', 'with', 'the', 'intention', 'of', 'overthrowing', 'U.S.-backed', 'dictator', 'Fulgencio', 'Batista', '.', '[', '8', ']', 'Guevara', 'soon', 'rose', 'to', 'prominence', 'among', 'the', 'insurgents', ',', 'was', 'promoted', 'to', 'second-in-command', ',', 'and', 'played', 'a', 'pivotal', 'role', 'in', 'the', 'two-year', 'guerrilla', 'campaign', 'that', 'deposed', 'the', 'Batista', 'regime', '.', '[', '9', ']', 'Ernesto', '``', 'Che', \"''\", 'Guevara', '(', 'Spanish', ':', '[', 'ˈtʃe', 'ɣeˈβaɾa', ']', ';', '[', '3', ']', '14', 'June', '1928', '[', '4', ']', '–', '9', 'October', '1967', ')', 'was', 'an', 'Argentine', 'Marxist', 'revolutionary', ',', 'physician', ',', 'author', ',', 'guerrilla', 'leader', ',', 'diplomat', ',', 'and', 'military', 'theorist', '.', 'A', 'major', 'figure', 'of', 'the', 'Cuban', 'Revolution', ',', 'his', 'stylized', 'visage', 'has', 'become', 'a', 'ubiquitous', 'countercultural', 'symbol', 'of', 'rebellion', 'and', 'global', 'insignia', 'in', 'popular', 'culture', '.', '[', '5', ']', 'As', 'a', 'young', 'medical', 'student', ',', 'Guevara', 'traveled', 'throughout', 'South', 'America', 'and', 'was', 'radicalized', 'by', 'the', 'poverty', ',', 'hunger', ',', 'and', 'disease', 'he', 'witnessed', '.', '[', '6', ']', '[', '7', ']', 'His', 'burgeoning', 'desire', 'to', 'help', 'overturn', 'what', 'he', 'saw', 'as', 'the', 'capitalist', 'exploitation', 'of', 'Latin', 'America', 'by', 'the', 'United', 'States', 'prompted', 'his', 'involvement', 'in', 'Guatemala', \"'s\", 'social', 'reforms', 'under', 'President', 'Jacobo', 'Árbenz', ',', 'whose', 'eventual', 'CIA-assisted', 'overthrow', 'at', 'the', 'behest', 'of', 'the', 'United', 'Fruit', 'Company', 'solidified', 'Guevara', \"'s\", 'political', 'ideology', '.']\n",
            "['Ernesto', '``', 'Che', \"''\", 'Guevara', '(', 'Spanish', ':', '[', 'ˈtʃe', 'ɣeˈβaɾa', ']', ';', '[', '3', ']', '14', 'June', '1928', '[', '4', ']', '–', '9', 'October', '1967', ')', 'was', 'an', 'Argentine', 'Marxist', 'revolutionary', ',', 'physician', ',', 'author', ',', 'guerrilla', 'leader', ',', 'diplomat', ',', 'and', 'military', 'theorist', '.', 'A', 'major', 'figure', 'of', 'the', 'Cuban', 'Revolution', ',', 'his', 'stylized', 'visage', 'has', 'become', 'a', 'ubiquitous', 'countercultural', 'symbol', 'of', 'rebellion', 'and', 'global', 'insignia', 'in', 'popular', 'culture', '.', '[', '5', ']', 'As', 'a', 'young', 'medical', 'student', ',', 'Guevara', 'traveled', 'throughout', 'South', 'America', 'and', 'was', 'radicalized', 'by', 'the', 'poverty', ',', 'hunger', ',', 'and', 'disease', 'he', 'witnessed', '.', '[', '6', ']', '[', '7', ']', 'His', 'burgeoning', 'desire', 'to', 'help', 'overturn', 'what', 'he', 'saw', 'as', 'the', 'capitalist', 'exploitation', 'of', 'Latin', 'America', 'by', 'the', 'United', 'States', 'prompted', 'his', 'involvement', 'in', 'Guatemala', \"'s\", 'social', 'reforms', 'under', 'President', 'Jacobo', 'Árbenz', ',', 'whose', 'eventual', 'CIA-assisted', 'overthrow', 'at', 'the', 'behest', 'of', 'the', 'United', 'Fruit', 'Company', 'solidified', 'Guevara', \"'s\", 'political', 'ideology', '.', '[', '6', ']', 'Later', 'in', 'Mexico', 'City', ',', 'Guevara', 'met', 'Raúl', 'and', 'Fidel', 'Castro', ',', 'joined', 'their', '26th', 'of', 'July', 'Movement', ',', 'and', 'sailed', 'to', 'Cuba', 'aboard', 'the', 'yacht', 'Granma', 'with', 'the', 'intention', 'of', 'overthrowing', 'U.S.-backed', 'dictator', 'Fulgencio', 'Batista', '.', '[', '8', ']', 'Guevara', 'soon', 'rose', 'to', 'prominence', 'among', 'the', 'insurgents', ',', 'was', 'promoted', 'to', 'second-in-command', ',', 'and', 'played', 'a', 'pivotal', 'role', 'in', 'the', 'two-year', 'guerrilla', 'campaign', 'that', 'deposed', 'the', 'Batista', 'regime', '.', '[', '9', ']', 'Ernesto', '``', 'Che', \"''\", 'Guevara', '(', 'Spanish', ':', '[', 'ˈtʃe', 'ɣeˈβaɾa', ']', ';', '[', '3', ']', '14', 'June', '1928', '[', '4', ']', '–', '9', 'October', '1967', ')', 'was', 'an', 'Argentine', 'Marxist', 'revolutionary', ',', 'physician', ',', 'author', ',', 'guerrilla', 'leader', ',', 'diplomat', ',', 'and', 'military', 'theorist', '.', 'A', 'major', 'figure', 'of', 'the', 'Cuban', 'Revolution', ',', 'his', 'stylized', 'visage', 'has', 'become', 'a', 'ubiquitous', 'countercultural', 'symbol', 'of', 'rebellion', 'and', 'global', 'insignia', 'in', 'popular', 'culture', '.', '[', '5', ']', 'As', 'a', 'young', 'medical', 'student', ',', 'Guevara', 'traveled', 'throughout', 'South', 'America', 'and', 'was', 'radicalized', 'by', 'the', 'poverty', ',', 'hunger', ',', 'and', 'disease', 'he', 'witnessed', '.', '[', '6', ']', '[', '7', ']', 'His', 'burgeoning', 'desire', 'to', 'help', 'overturn', 'what', 'he', 'saw', 'as', 'the', 'capitalist', 'exploitation', 'of', 'Latin', 'America', 'by', 'the', 'United', 'States', 'prompted', 'his', 'involvement', 'in', 'Guatemala', \"'s\", 'social', 'reforms', 'under', 'President', 'Jacobo', 'Árbenz', ',', 'whose', 'eventual', 'CIA-assisted', 'overthrow', 'at', 'the', 'behest', 'of', 'the', 'United', 'Fruit', 'Company', 'solidified', 'Guevara', \"'s\", 'political', 'ideology', '.', '[', '6', ']', 'Later', 'in', 'Mexico', 'City', ',', 'Guevara', 'met', 'Raúl', 'and', 'Fidel', 'Castro', ',', 'joined', 'their', '26th', 'of', 'July', 'Movement', ',', 'and', 'sailed', 'to', 'Cuba', 'aboard', 'the', 'yacht', 'Granma', 'with', 'the', 'intention', 'of', 'overthrowing', 'U.S.-backed', 'dictator', 'Fulgencio', 'Batista', '.', '[', '8', ']', 'Guevara', 'soon', 'rose', 'to', 'prominence', 'among', 'the', 'insurgents', ',', 'was', 'promoted', 'to', 'second-in-command', ',', 'and', 'played', 'a', 'pivotal', 'role', 'in', 'the', 'two-year', 'guerrilla', 'campaign', 'that', 'deposed', 'the', 'Batista', 'regime', '.', '[', '9', ']', 'Ernesto', '``', 'Che', \"''\", 'Guevara', '(', 'Spanish', ':', '[', 'ˈtʃe', 'ɣeˈβaɾa', ']', ';', '[', '3', ']', '14', 'June', '1928', '[', '4', ']', '–', '9', 'October', '1967', ')', 'was', 'an', 'Argentine', 'Marxist', 'revolutionary', ',', 'physician', ',', 'author', ',', 'guerrilla', 'leader', ',', 'diplomat', ',', 'and', 'military', 'theorist', '.', 'A', 'major', 'figure', 'of', 'the', 'Cuban', 'Revolution', ',', 'his', 'stylized', 'visage', 'has', 'become', 'a', 'ubiquitous', 'countercultural', 'symbol', 'of', 'rebellion', 'and', 'global', 'insignia', 'in', 'popular', 'culture', '.', '[', '5', ']', 'As', 'a', 'young', 'medical', 'student', ',', 'Guevara', 'traveled', 'throughout', 'South', 'America', 'and', 'was', 'radicalized', 'by', 'the', 'poverty', ',', 'hunger', ',', 'and', 'disease', 'he', 'witnessed', '.', '[', '6', ']', '[', '7', ']', 'His', 'burgeoning', 'desire', 'to', 'help', 'overturn', 'what', 'he', 'saw', 'as', 'the', 'capitalist', 'exploitation', 'of', 'Latin', 'America', 'by', 'the', 'United', 'States', 'prompted', 'his', 'involvement', 'in', 'Guatemala', \"'s\", 'social', 'reforms', 'under', 'President', 'Jacobo', 'Árbenz', ',', 'whose', 'eventual', 'CIA-assisted', 'overthrow', 'at', 'the', 'behest', 'of', 'the', 'United', 'Fruit', 'Company', 'solidified', 'Guevara', \"'s\", 'political', 'ideology', '.', '[', '6', ']', 'Later', 'in', 'Mexico', 'City', ',', 'Guevara', 'met', 'Raúl', 'and', 'Fidel', 'Castro', ',', 'joined', 'their', '26th', 'of', 'July', 'Movement', ',', 'and', 'sailed', 'to', 'Cuba', 'aboard', 'the', 'yacht', 'Granma', 'with', 'the', 'intention', 'of', 'overthrowing', 'U.S.-backed', 'dictator', 'Fulgencio', 'Batista', '.']\n",
            "['Ernesto', '``', 'Che', \"''\", 'Guevara', '(', 'Spanish', ':', '[', 'ˈtʃe', 'ɣeˈβaɾa', ']', ';', '[', '3', ']', '14', 'June', '1928', '[', '4', ']', '–', '9', 'October', '1967', ')', 'was', 'an', 'Argentine', 'Marxist', 'revolutionary', ',', 'physician', ',', 'author', ',', 'guerrilla', 'leader', ',', 'diplomat', ',', 'and', 'military', 'theorist', '.', 'A', 'major', 'figure', 'of', 'the', 'Cuban', 'Revolution', ',', 'his', 'stylized', 'visage', 'has', 'become', 'a', 'ubiquitous', 'countercultural', 'symbol', 'of', 'rebellion', 'and', 'global', 'insignia', 'in', 'popular', 'culture', '.', '[', '5', ']', 'As', 'a', 'young', 'medical', 'student', ',', 'Guevara', 'traveled', 'throughout', 'South', 'America', 'and', 'was', 'radicalized', 'by', 'the', 'poverty', ',', 'hunger', ',', 'and', 'disease', 'he', 'witnessed', '.', '[', '6', ']', '[', '7', ']', 'His', 'burgeoning', 'desire', 'to', 'help', 'overturn', 'what', 'he', 'saw', 'as', 'the', 'capitalist', 'exploitation', 'of', 'Latin', 'America', 'by', 'the', 'United', 'States', 'prompted', 'his', 'involvement', 'in', 'Guatemala', \"'s\", 'social', 'reforms', 'under', 'President', 'Jacobo', 'Árbenz', ',', 'whose', 'eventual', 'CIA-assisted', 'overthrow', 'at', 'the', 'behest', 'of', 'the', 'United', 'Fruit', 'Company', 'solidified', 'Guevara', \"'s\", 'political', 'ideology', '.', '[', '6', ']', 'Later', 'in', 'Mexico', 'City', ',', 'Guevara', 'met', 'Raúl', 'and', 'Fidel', 'Castro', ',', 'joined', 'their', '26th', 'of', 'July', 'Movement', ',', 'and', 'sailed', 'to', 'Cuba', 'aboard', 'the', 'yacht', 'Granma', 'with', 'the', 'intention', 'of', 'overthrowing', 'U.S.-backed', 'dictator', 'Fulgencio', 'Batista', '.', '[', '8', ']', 'Guevara', 'soon', 'rose', 'to', 'prominence', 'among', 'the', 'insurgents', ',', 'was', 'promoted', 'to', 'second-in-command', ',', 'and', 'played', 'a', 'pivotal', 'role', 'in', 'the', 'two-year', 'guerrilla', 'campaign', 'that', 'deposed', 'the', 'Batista', 'regime', '.', '[', '9', ']', 'Ernesto', '``', 'Che', \"''\", 'Guevara', '(', 'Spanish', ':', '[', 'ˈtʃe', 'ɣeˈβaɾa', ']', ';', '[', '3', ']', '14', 'June', '1928', '[', '4', ']', '–', '9', 'October', '1967', ')', 'was', 'an', 'Argentine', 'Marxist', 'revolutionary', ',', 'physician', ',', 'author', ',', 'guerrilla', 'leader', ',', 'diplomat', ',', 'and', 'military', 'theorist', '.', 'A', 'major', 'figure', 'of', 'the', 'Cuban', 'Revolution', ',', 'his', 'stylized', 'visage', 'has', 'become', 'a', 'ubiquitous', 'countercultural', 'symbol', 'of', 'rebellion', 'and', 'global', 'insignia', 'in', 'popular', 'culture', '.', '[', '5', ']', 'As', 'a', 'young', 'medical', 'student', ',', 'Guevara', 'traveled', 'throughout', 'South', 'America', 'and', 'was', 'radicalized', 'by', 'the', 'poverty', ',', 'hunger', ',', 'and', 'disease', 'he', 'witnessed', '.', '[', '6', ']', '[', '7', ']', 'His', 'burgeoning', 'desire', 'to', 'help', 'overturn', 'what', 'he', 'saw', 'as', 'the', 'capitalist', 'exploitation', 'of', 'Latin', 'America', 'by', 'the', 'United', 'States', 'prompted', 'his', 'involvement', 'in', 'Guatemala', \"'s\", 'social', 'reforms', 'under', 'President', 'Jacobo', 'Árbenz', ',', 'whose', 'eventual', 'CIA-assisted', 'overthrow', 'at', 'the', 'behest', 'of', 'the', 'United', 'Fruit', 'Company', 'solidified', 'Guevara', \"'s\", 'political', 'ideology', '.', '[', '6', ']', 'Later', 'in', 'Mexico', 'City', ',', 'Guevara', 'met', 'Raúl', 'and', 'Fidel', 'Castro', ',', 'joined', 'their', '26th', 'of', 'July', 'Movement', ',', 'and', 'sailed', 'to', 'Cuba', 'aboard', 'the', 'yacht', 'Granma', 'with', 'the', 'intention', 'of', 'overthrowing', 'U.S.-backed', 'dictator', 'Fulgencio', 'Batista', '.', '[', '8', ']', 'Guevara', 'soon', 'rose', 'to', 'prominence', 'among', 'the', 'insurgents', ',', 'was', 'promoted', 'to', 'second-in-command', ',', 'and', 'played', 'a', 'pivotal', 'role', 'in', 'the', 'two-year', 'guerrilla', 'campaign', 'that', 'deposed', 'the', 'Batista', 'regime', '.', '[', '9', ']', 'Ernesto', '``', 'Che', \"''\", 'Guevara', '(', 'Spanish', ':', '[', 'ˈtʃe', 'ɣeˈβaɾa', ']', ';', '[', '3', ']', '14', 'June', '1928', '[', '4', ']', '–', '9', 'October', '1967', ')', 'was', 'an', 'Argentine', 'Marxist', 'revolutionary', ',', 'physician', ',', 'author', ',', 'guerrilla', 'leader', ',', 'diplomat', ',', 'and', 'military', 'theorist', '.', 'A', 'major', 'figure', 'of', 'the', 'Cuban', 'Revolution', ',', 'his', 'stylized', 'visage', 'has', 'become', 'a', 'ubiquitous', 'countercultural', 'symbol', 'of', 'rebellion', 'and', 'global', 'insignia', 'in', 'popular', 'culture', '.', '[', '5', ']', 'As', 'a', 'young', 'medical', 'student', ',', 'Guevara', 'traveled', 'throughout', 'South', 'America', 'and', 'was', 'radicalized', 'by', 'the', 'poverty', ',', 'hunger', ',', 'and', 'disease', 'he', 'witnessed', '.', '[', '6', ']', '[', '7', ']', 'His', 'burgeoning', 'desire', 'to', 'help', 'overturn', 'what', 'he', 'saw', 'as', 'the', 'capitalist', 'exploitation', 'of', 'Latin', 'America', 'by', 'the', 'United', 'States', 'prompted', 'his', 'involvement', 'in', 'Guatemala', \"'s\", 'social', 'reforms', 'under', 'President', 'Jacobo', 'Árbenz', ',', 'whose', 'eventual', 'CIA-assisted', 'overthrow', 'at', 'the', 'behest', 'of', 'the', 'United', 'Fruit', 'Company', 'solidified', 'Guevara', \"'s\", 'political', 'ideology', '.', '[', '6', ']', 'Later', 'in', 'Mexico', 'City', ',', 'Guevara', 'met', 'Raúl', 'and', 'Fidel', 'Castro', ',', 'joined', 'their', '26th', 'of', 'July', 'Movement', ',', 'and', 'sailed', 'to', 'Cuba', 'aboard', 'the', 'yacht', 'Granma', 'with', 'the', 'intention', 'of', 'overthrowing', 'U.S.-backed', 'dictator', 'Fulgencio', 'Batista', '.', '[', '8', ']', 'Guevara', 'soon', 'rose', 'to', 'prominence', 'among', 'the', 'insurgents', ',', 'was', 'promoted', 'to', 'second-in-command', ',', 'and', 'played', 'a', 'pivotal', 'role', 'in', 'the', 'two-year', 'guerrilla', 'campaign', 'that', 'deposed', 'the', 'Batista', 'regime', '.']\n",
            "['Ernesto', '``', 'Che', \"''\", 'Guevara', '(', 'Spanish', ':', '[', 'ˈtʃe', 'ɣeˈβaɾa', ']', ';', '[', '3', ']', '14', 'June', '1928', '[', '4', ']', '–', '9', 'October', '1967', ')', 'was', 'an', 'Argentine', 'Marxist', 'revolutionary', ',', 'physician', ',', 'author', ',', 'guerrilla', 'leader', ',', 'diplomat', ',', 'and', 'military', 'theorist', '.', 'A', 'major', 'figure', 'of', 'the', 'Cuban', 'Revolution', ',', 'his', 'stylized', 'visage', 'has', 'become', 'a', 'ubiquitous', 'countercultural', 'symbol', 'of', 'rebellion', 'and', 'global', 'insignia', 'in', 'popular', 'culture', '.', '[', '5', ']', 'As', 'a', 'young', 'medical', 'student', ',', 'Guevara', 'traveled', 'throughout', 'South', 'America', 'and', 'was', 'radicalized', 'by', 'the', 'poverty', ',', 'hunger', ',', 'and', 'disease', 'he', 'witnessed', '.', '[', '6', ']', '[', '7', ']', 'His', 'burgeoning', 'desire', 'to', 'help', 'overturn', 'what', 'he', 'saw', 'as', 'the', 'capitalist', 'exploitation', 'of', 'Latin', 'America', 'by', 'the', 'United', 'States', 'prompted', 'his', 'involvement', 'in', 'Guatemala', \"'s\", 'social', 'reforms', 'under', 'President', 'Jacobo', 'Árbenz', ',', 'whose', 'eventual', 'CIA-assisted', 'overthrow', 'at', 'the', 'behest', 'of', 'the', 'United', 'Fruit', 'Company', 'solidified', 'Guevara', \"'s\", 'political', 'ideology', '.', '[', '6', ']', 'Later', 'in', 'Mexico', 'City', ',', 'Guevara', 'met', 'Raúl', 'and', 'Fidel', 'Castro', ',', 'joined', 'their', '26th', 'of', 'July', 'Movement', ',', 'and', 'sailed', 'to', 'Cuba', 'aboard', 'the', 'yacht', 'Granma', 'with', 'the', 'intention', 'of', 'overthrowing', 'U.S.-backed', 'dictator', 'Fulgencio', 'Batista', '.', '[', '8', ']', 'Guevara', 'soon', 'rose', 'to', 'prominence', 'among', 'the', 'insurgents', ',', 'was', 'promoted', 'to', 'second-in-command', ',', 'and', 'played', 'a', 'pivotal', 'role', 'in', 'the', 'two-year', 'guerrilla', 'campaign', 'that', 'deposed', 'the', 'Batista', 'regime', '.', '[', '9', ']', 'Ernesto', '``', 'Che', \"''\", 'Guevara', '(', 'Spanish', ':', '[', 'ˈtʃe', 'ɣeˈβaɾa', ']', ';', '[', '3', ']', '14', 'June', '1928', '[', '4', ']', '–', '9', 'October', '1967', ')', 'was', 'an', 'Argentine', 'Marxist', 'revolutionary', ',', 'physician', ',', 'author', ',', 'guerrilla', 'leader', ',', 'diplomat', ',', 'and', 'military', 'theorist', '.', 'A', 'major', 'figure', 'of', 'the', 'Cuban', 'Revolution', ',', 'his', 'stylized', 'visage', 'has', 'become', 'a', 'ubiquitous', 'countercultural', 'symbol', 'of', 'rebellion', 'and', 'global', 'insignia', 'in', 'popular', 'culture', '.', '[', '5', ']', 'As', 'a', 'young', 'medical', 'student', ',', 'Guevara', 'traveled', 'throughout', 'South', 'America', 'and', 'was', 'radicalized', 'by', 'the', 'poverty', ',', 'hunger', ',', 'and', 'disease', 'he', 'witnessed', '.', '[', '6', ']', '[', '7', ']', 'His', 'burgeoning', 'desire', 'to', 'help', 'overturn', 'what', 'he', 'saw', 'as', 'the', 'capitalist', 'exploitation', 'of', 'Latin', 'America', 'by', 'the', 'United', 'States', 'prompted', 'his', 'involvement', 'in', 'Guatemala', \"'s\", 'social', 'reforms', 'under', 'President', 'Jacobo', 'Árbenz', ',', 'whose', 'eventual', 'CIA-assisted', 'overthrow', 'at', 'the', 'behest', 'of', 'the', 'United', 'Fruit', 'Company', 'solidified', 'Guevara', \"'s\", 'political', 'ideology', '.', '[', '6', ']', 'Later', 'in', 'Mexico', 'City', ',', 'Guevara', 'met', 'Raúl', 'and', 'Fidel', 'Castro', ',', 'joined', 'their', '26th', 'of', 'July', 'Movement', ',', 'and', 'sailed', 'to', 'Cuba', 'aboard', 'the', 'yacht', 'Granma', 'with', 'the', 'intention', 'of', 'overthrowing', 'U.S.-backed', 'dictator', 'Fulgencio', 'Batista', '.', '[', '8', ']', 'Guevara', 'soon', 'rose', 'to', 'prominence', 'among', 'the', 'insurgents', ',', 'was', 'promoted', 'to', 'second-in-command', ',', 'and', 'played', 'a', 'pivotal', 'role', 'in', 'the', 'two-year', 'guerrilla', 'campaign', 'that', 'deposed', 'the', 'Batista', 'regime', '.', '[', '9', ']', 'Ernesto', '``', 'Che', \"''\", 'Guevara', '(', 'Spanish', ':', '[', 'ˈtʃe', 'ɣeˈβaɾa', ']', ';', '[', '3', ']', '14', 'June', '1928', '[', '4', ']', '–', '9', 'October', '1967', ')', 'was', 'an', 'Argentine', 'Marxist', 'revolutionary', ',', 'physician', ',', 'author', ',', 'guerrilla', 'leader', ',', 'diplomat', ',', 'and', 'military', 'theorist', '.', 'A', 'major', 'figure', 'of', 'the', 'Cuban', 'Revolution', ',', 'his', 'stylized', 'visage', 'has', 'become', 'a', 'ubiquitous', 'countercultural', 'symbol', 'of', 'rebellion', 'and', 'global', 'insignia', 'in', 'popular', 'culture', '.', '[', '5', ']', 'As', 'a', 'young', 'medical', 'student', ',', 'Guevara', 'traveled', 'throughout', 'South', 'America', 'and', 'was', 'radicalized', 'by', 'the', 'poverty', ',', 'hunger', ',', 'and', 'disease', 'he', 'witnessed', '.', '[', '6', ']', '[', '7', ']', 'His', 'burgeoning', 'desire', 'to', 'help', 'overturn', 'what', 'he', 'saw', 'as', 'the', 'capitalist', 'exploitation', 'of', 'Latin', 'America', 'by', 'the', 'United', 'States', 'prompted', 'his', 'involvement', 'in', 'Guatemala', \"'s\", 'social', 'reforms', 'under', 'President', 'Jacobo', 'Árbenz', ',', 'whose', 'eventual', 'CIA-assisted', 'overthrow', 'at', 'the', 'behest', 'of', 'the', 'United', 'Fruit', 'Company', 'solidified', 'Guevara', \"'s\", 'political', 'ideology', '.', '[', '6', ']', 'Later', 'in', 'Mexico', 'City', ',', 'Guevara', 'met', 'Raúl', 'and', 'Fidel', 'Castro', ',', 'joined', 'their', '26th', 'of', 'July', 'Movement', ',', 'and', 'sailed', 'to', 'Cuba', 'aboard', 'the', 'yacht', 'Granma', 'with', 'the', 'intention', 'of', 'overthrowing', 'U.S.-backed', 'dictator', 'Fulgencio', 'Batista', '.', '[', '8', ']', 'Guevara', 'soon', 'rose', 'to', 'prominence', 'among', 'the', 'insurgents', ',', 'was', 'promoted', 'to', 'second-in-command', ',', 'and', 'played', 'a', 'pivotal', 'role', 'in', 'the', 'two-year', 'guerrilla', 'campaign', 'that', 'deposed', 'the', 'Batista', 'regime', '.', '[', '9', ']']\n"
          ]
        }
      ]
    },
    {
      "cell_type": "code",
      "source": [
        "# Apply Stemming\n",
        "\n",
        "stemmer = PorterStemmer()\n",
        "stemmed = []\n",
        "\n",
        "for word in filtered_words:\n",
        "  if word not in set(stopwords.words('english')):\n",
        "    stemmed_words = stemmer.stem(word)\n",
        "    stemmed.append(stemmed_words)\n",
        "\n",
        "\n",
        "print(stemmed_words)\n"
      ],
      "metadata": {
        "colab": {
          "base_uri": "https://localhost:8080/"
        },
        "id": "uNGWRTRrXQEf",
        "outputId": "55f7a0bd-1d1b-45ae-d1a5-04e458e02617"
      },
      "execution_count": 172,
      "outputs": [
        {
          "output_type": "stream",
          "name": "stdout",
          "text": [
            "wit\n"
          ]
        }
      ]
    },
    {
      "cell_type": "code",
      "source": [
        "# Apply Lemmatization\n",
        "\n",
        "lemmatizer = WordNetLemmatizer()\n",
        "lemmatized = []\n",
        "\n",
        "for word in filtered_words:\n",
        "  if word not in set(stopwords.words('english')):\n",
        "    lemmatized_word = lemmatizer.lemmatize(word)\n",
        "    lemmatized.append(lemmatized_word)\n",
        "\n",
        "print(lemmatized_word)"
      ],
      "metadata": {
        "colab": {
          "base_uri": "https://localhost:8080/"
        },
        "id": "EgChxlFXGzBB",
        "outputId": "0cba023d-3c78-45d1-8f68-07e9874a506b"
      },
      "execution_count": 173,
      "outputs": [
        {
          "output_type": "stream",
          "name": "stdout",
          "text": [
            "witnessed\n"
          ]
        }
      ]
    }
  ]
}